{
 "cells": [
  {
   "cell_type": "code",
   "execution_count": 1,
   "metadata": {},
   "outputs": [],
   "source": [
    "from moviepy.editor import *\n",
    "import os"
   ]
  },
  {
   "cell_type": "code",
   "execution_count": 2,
   "metadata": {},
   "outputs": [],
   "source": [
    "import pandas as pd\n",
    "import numpy as np\n",
    "import matplotlib.pyplot as plt\n",
    "#import seaborn as sns\n",
    "from pylab import rcParams\n",
    "rcParams['figure.figsize'] = 15, 5\n",
    "params = {'xtick.labelsize':'x-large',\n",
    "         'ytick.labelsize':'x-large'}\n",
    "rcParams.update(params)"
   ]
  },
  {
   "cell_type": "code",
   "execution_count": 3,
   "metadata": {},
   "outputs": [],
   "source": [
    "pathExcel = '/part4/fps10Videos/'\n",
    "pd.set_option('display.max_rows', 500)\n",
    "pd.set_option('display.max_columns', 500)\n",
    "data_k = pd.read_excel(pathExcel+'video_tags (13).xlsx', sheet_name='KR-video_procedures')"
   ]
  },
  {
   "cell_type": "code",
   "execution_count": 4,
   "metadata": {},
   "outputs": [],
   "source": [
    "data_k_dia=data_k[data_k['Label']=='Diaper_change']"
   ]
  },
  {
   "cell_type": "code",
   "execution_count": 5,
   "metadata": {},
   "outputs": [],
   "source": [
    "data_k_feed=data_k[data_k['Label']=='Feeding']"
   ]
  },
  {
   "cell_type": "code",
   "execution_count": 6,
   "metadata": {},
   "outputs": [],
   "source": [
    "data_k_pat=data_k[data_k['Label']=='Patting']"
   ]
  },
  {
   "cell_type": "code",
   "execution_count": 7,
   "metadata": {},
   "outputs": [],
   "source": [
    "data_k_rel=pd.concat([data_k_dia,data_k_feed,data_k_pat])"
   ]
  },
  {
   "cell_type": "code",
   "execution_count": 8,
   "metadata": {},
   "outputs": [],
   "source": [
    "k_video=data_k_rel['Video (Title)'].unique()"
   ]
  },
  {
   "cell_type": "code",
   "execution_count": 9,
   "metadata": {},
   "outputs": [],
   "source": [
    "videolist_k=k_video.tolist()"
   ]
  },
  {
   "cell_type": "code",
   "execution_count": null,
   "metadata": {},
   "outputs": [
    {
     "data": {
      "text/plain": [
       "['NEO102.stream_720p_2020-01-21-07.57.03.617-UTC_1.mp4',\n",
       " 'NEO101.stream_720p_2020-01-06-13.01.28.782-UTC_1.mp4',\n",
       " 'NEO101.stream_720p_2020-01-06-13.01.28.782-UTC_3.mp4',\n",
       " 'NEO101.stream_720p_2020-01-06-19.00.26.977-UTC_8.mp4',\n",
       " 'NEO101.stream_720p_2020-01-07-03.13.15.054-UTC_1.mp4',\n",
       " 'NEO101.stream_720p_2020-01-07-16.57.58.404-UTC_1.mp4',\n",
       " 'NEO101.stream_720p_2020-01-08-09.06.29.627-UTC_0.mp4',\n",
       " 'NEO101.stream_720p_2020-01-08-11.57.57.298-UTC_1.mp4',\n",
       " 'NEO101.stream_720p_2020-01-08-17.24.58.709-UTC_1.mp4',\n",
       " 'NEO101.stream_720p_2020-01-08-19.26.40.027-UTC_5.mp4',\n",
       " 'NEO101.stream_720p_2020-01-09-03.39.09.292-UTC_1.mp4',\n",
       " 'NEO101.stream_720p_2020-01-10-12.11.21.560-UTC_0.mp4',\n",
       " 'NEO101.stream_2020-01-06-10.26.40.101-UTC_0.mp4',\n",
       " 'NEO101.stream_2020-01-06-13.01.16.203-UTC_1.mp4',\n",
       " 'NEO101.stream_2020-01-06-13.01.16.203-UTC_3.mp4',\n",
       " 'NEO102.stream_720p_2020-01-09-08.30.37.766-UTC_0.mp4',\n",
       " 'NEO102.stream_720p_2020-01-10-07.39.43.041-UTC_1.mp4',\n",
       " 'NEO102.stream_720p_2020-01-10-11.03.52.944-UTC_1.mp4',\n",
       " 'NEO102.stream_720p_2020-01-11-12.54.15.247-UTC_3.mp4',\n",
       " 'NEO102.stream_720p_2020-01-11-15.26.08.074-UTC_2.mp4',\n",
       " 'NEO102.stream_720p_2020-01-11-18.32.53.594-UTC_1.mp4',\n",
       " 'NEO102.stream_2020-01-10-07.38.57.677-UTC_1.mp4',\n",
       " 'NEO103.stream_2020-01-07-05.36.21.861-UTC_4.mp4',\n",
       " 'NEO106.stream_720p_2020-01-05-08.25.30.277-UTC_1.mp4',\n",
       " 'NEO102.stream_720p_2020-01-15-12.39.24.937-UTC_4.mp4',\n",
       " 'NEO102.stream_720p_2020-01-15-19.35.07.219-UTC_3.mp4',\n",
       " 'NEO102.stream_720p_2020-01-15-19.35.07.219-UTC_5.mp4',\n",
       " 'NEO102.stream_720p_2020-01-15-19.35.07.219-UTC_9.mp4',\n",
       " 'NEO102.stream_720p_2020-01-15-19.35.07.219-UTC_15.mp4',\n",
       " 'NEO102.stream_720p_2020-01-17-09.05.55.936-UTC_1.mp4',\n",
       " 'NEO102.stream_720p_2020-01-17-11.24.55.893-UTC_3.mp4',\n",
       " 'NEO102.stream_720p_2020-01-17-11.24.55.893-UTC_7.mp4',\n",
       " 'NEO102.stream_720p_2020-01-17-11.24.55.893-UTC_15.mp4',\n",
       " 'NEO102.stream_720p_2020-01-17-11.24.55.893-UTC_16.mp4',\n",
       " 'NEO102.stream_720p_2020-01-18-06.05.17.098-UTC_0.mp4',\n",
       " 'NEO102.stream_720p_2020-01-18-06.05.17.098-UTC_4.mp4',\n",
       " 'NEO102.stream_720p_2020-01-18-06.05.17.098-UTC_6.mp4',\n",
       " 'NEO102.stream_720p_2020-01-18-06.05.17.098-UTC_8.mp4',\n",
       " 'NEO102.stream_720p_2020-01-18-06.05.17.098-UTC_10.mp4',\n",
       " 'NEO102.stream_720p_2020-01-18-06.05.17.098-UTC_14.mp4',\n",
       " 'NEO102.stream_720p_2020-01-18-06.05.17.098-UTC_18.mp4',\n",
       " 'NEO102.stream_720p_2020-01-18-06.05.17.098-UTC_20.mp4',\n",
       " 'NEO102.stream_720p_2020-01-19-03.49.21.475-UTC_1.mp4',\n",
       " 'NEO102.stream_720p_2020-01-22-03.32.59.313-UTC_1.mp4',\n",
       " 'NEO102.stream_720p_2020-01-22-06.19.50.995-UTC_3.mp4',\n",
       " 'NEO105.stream_720p_2020-01-21-10.05.38.840-UTC_0.mp4',\n",
       " 'NEOTINY102.stream_720p_2020-03-05-15.18.17.286-UTC_1.mp4',\n",
       " 'NEOTINY102.stream_720p_2020-03-08-06.03.16.123-UTC_0.mp4',\n",
       " 'NEOTINY102.stream_720p_2020-03-08-12.06.27.081-UTC_8.mp4',\n",
       " 'NEOTINY102.stream_720p_2020-03-08-12.06.27.081-UTC_13.mp4',\n",
       " 'NEOTINY102.stream_720p_2020-03-09-03.52.11.558-UTC_10.mp4',\n",
       " 'NEOTINY102.stream_720p_2020-03-09-03.52.11.558-UTC_17.mp4',\n",
       " 'NEOTINY102.stream_720p_2020-02-24-16.39.58.806-UTC_5.mp4',\n",
       " 'NEO102.stream_720p_2020-01-21-08.14.13.220-UTC_2.mp4',\n",
       " 'NEO101.stream_720p_2020-01-06-17.59.06.817-UTC_1.mp4',\n",
       " 'NEO101.stream_720p_2020-01-06-19.00.26.977-UTC_2.mp4',\n",
       " 'NEO101.stream_720p_2020-01-06-19.00.26.977-UTC_6.mp4',\n",
       " 'NEO101.stream_720p_2020-01-07-09.27.22.054-UTC_1.mp4',\n",
       " 'NEO101.stream_720p_2020-01-07-11.01.12.817-UTC_3.mp4',\n",
       " 'NEO101.stream_720p_2020-01-08-06.18.48.826-UTC_0.mp4',\n",
       " 'NEO101.stream_720p_2020-01-08-19.26.40.027-UTC_1.mp4',\n",
       " 'NEO101.stream_720p_2020-01-09-05.57.30.232-UTC_1.mp4',\n",
       " 'NEO101.stream_720p_2020-01-10-09.05.59.853-UTC_1.mp4',\n",
       " 'NEO101.stream_2020-01-07-05.36.03.254-UTC_1.mp4',\n",
       " 'NEO102.stream_720p_2020-01-10-09.44.21.542-UTC_1.mp4',\n",
       " 'NEO102.stream_720p_2020-01-11-18.32.53.594-UTC_4.mp4',\n",
       " 'NEO102.stream_2020-01-10-12.41.21.384-UTC_2.mp4',\n",
       " 'NEO106.stream_720p_2020-01-06-03.17.53.924-UTC_3.mp4',\n",
       " 'NEO106.stream_720p_2020-01-06-07.39.19.283-UTC_1.mp4',\n",
       " 'NEO106.stream_2020-01-06-05.35.38.265-UTC_1.mp4',\n",
       " 'NEO102.stream_720p_2020-01-15-12.39.24.937-UTC_3.mp4',\n",
       " 'NEO102.stream_720p_2020-01-15-17.47.53.315-UTC_1.mp4',\n",
       " 'NEO102.stream_720p_2020-01-15-19.35.07.219-UTC_2.mp4',\n",
       " 'NEO102.stream_720p_2020-01-16-09.09.21.974-UTC_1.mp4',\n",
       " 'NEO102.stream_720p_2020-01-16-09.09.21.974-UTC_5.mp4',\n",
       " 'NEO102.stream_720p_2020-01-17-08.33.45.857-UTC_0.mp4',\n",
       " 'NEO102.stream_720p_2020-01-17-11.24.55.893-UTC_1.mp4',\n",
       " 'NEO102.stream_720p_2020-01-17-11.24.55.893-UTC_4.mp4',\n",
       " 'NEO102.stream_720p_2020-01-17-11.24.55.893-UTC_10.mp4',\n",
       " 'NEO102.stream_720p_2020-01-17-11.24.55.893-UTC_12.mp4',\n",
       " 'NEO102.stream_720p_2020-01-17-11.24.55.893-UTC_20.mp4',\n",
       " 'NEO102.stream_720p_2020-01-18-06.05.17.098-UTC_2.mp4',\n",
       " 'NEO102.stream_720p_2020-01-18-06.05.17.098-UTC_12.mp4',\n",
       " 'NEO102.stream_720p_2020-01-18-06.05.17.098-UTC_16.mp4',\n",
       " 'NEO102.stream_720p_2020-01-19-06.50.50.733-UTC_5.mp4',\n",
       " 'NEO102.stream_720p_2020-01-21-15.31.17.377-UTC_1.mp4',\n",
       " 'NEO102.stream_720p_2020-01-21-16.43.21.650-UTC_2.mp4',\n",
       " 'NEO102.stream_720p_2020-01-21-16.43.21.650-UTC_4.mp4',\n",
       " 'NEO102.stream_720p_2020-01-21-20.57.30.051-UTC_2.mp4',\n",
       " 'NEO102.stream_720p_2020-01-21-20.57.30.051-UTC_4.mp4',\n",
       " 'NEO102.stream_720p_2020-01-21-20.57.30.051-UTC_6.mp4',\n",
       " 'NEO102.stream_720p_2020-01-24-15.01.37.737-UTC_1.mp4',\n",
       " 'NEO102.stream_720p_2020-01-24-15.01.37.737-UTC_3.mp4',\n",
       " 'NEO102.stream_720p_2020-01-24-15.01.37.737-UTC_5.mp4',\n",
       " 'NEO102.stream_2020-01-15-12.39.16.255-UTC_6.mp4',\n",
       " 'NEOTINY102.stream_720p_2020-03-08-10.39.45.516-UTC_0.mp4',\n",
       " 'NEOTINY102.stream_720p_2020-03-08-12.06.27.081-UTC_0.mp4',\n",
       " 'NEOTINY102.stream_720p_2020-03-08-12.06.27.081-UTC_2.mp4',\n",
       " 'NEOTINY102.stream_720p_2020-02-24-11.48.02.650-UTC_1.mp4',\n",
       " 'NEOTINY102.stream_720p_2020-02-24-11.48.02.650-UTC_3.mp4',\n",
       " 'NEOTINY102.stream_720p_2020-02-24-16.39.58.806-UTC_10.mp4',\n",
       " 'NEOTINY102.stream_720p_2020-02-24-16.39.58.806-UTC_11.mp4',\n",
       " 'NEOTINY102.stream_720p_2020-02-26-05.44.47.738-UTC_1.mp4',\n",
       " 'NEO102.stream_720p_2020-01-09-08.49.41.211-UTC_0.mp4',\n",
       " 'NEO102.stream_2020-01-10-12.41.21.384-UTC_1.mp4',\n",
       " 'NEO102.stream_720p_2020-01-16-19.22.05.159-UTC_0.mp4',\n",
       " 'NEO102.stream_720p_2020-01-16-19.23.05.169-UTC_0.mp4',\n",
       " 'NEO102.stream_720p_2020-01-17-00.36.13.529-UTC_0.mp4',\n",
       " 'NEO102.stream_720p_2020-01-17-06.23.35.673-UTC_0.mp4',\n",
       " 'NEO102.stream_720p_2020-01-17-06.24.25.829-UTC_0.mp4',\n",
       " 'NEO102.stream_720p_2020-01-19-06.50.50.733-UTC_8.mp4',\n",
       " 'NEO102.stream_720p_2020-01-22-06.19.50.995-UTC_0.mp4',\n",
       " 'NEO102.stream_720p_2020-01-22-10.08.11.292-UTC_0.mp4',\n",
       " 'NEO102.stream_2020-01-15-12.39.16.255-UTC_8.mp4',\n",
       " 'NEO105.stream_720p_2020-01-23-07.58.25.356-UTC_1.mp4',\n",
       " 'NEOTINY102.stream_720p_2020-03-06-06.02.08.256-UTC_0.mp4',\n",
       " 'NEOTINY102.stream_720p_2020-03-08-08.34.40.212-UTC_0.mp4',\n",
       " 'NEOTINY102.stream_720p_2020-03-08-08.34.40.212-UTC_1.mp4',\n",
       " 'NEOTINY102.stream_720p_2020-03-09-03.52.11.558-UTC_1.mp4',\n",
       " 'NEOTINY102.stream_720p_2020-03-09-03.52.11.558-UTC_3.mp4',\n",
       " 'NEOTINY102.stream_720p_2020-03-09-03.52.11.558-UTC_5.mp4',\n",
       " 'NEOTINY102.stream_720p_2020-03-09-03.52.11.558-UTC_6.mp4',\n",
       " 'NEOTINY102.stream_720p_2020-03-09-03.52.11.558-UTC_13.mp4',\n",
       " 'NEOTINY102.stream_720p_2020-03-09-03.52.11.558-UTC_16.mp4',\n",
       " 'NEOTINY102.stream_720p_2020-03-09-03.52.11.558-UTC_19.mp4']"
      ]
     },
     "execution_count": 10,
     "metadata": {},
     "output_type": "execute_result"
    }
   ],
   "source": [
    "videolist_k"
   ]
  },
  {
   "cell_type": "code",
   "execution_count": null,
   "metadata": {},
   "outputs": [
    {
     "name": "stdout",
     "output_type": "stream",
     "text": [
      "Setting fps of video:  NEOTINY102.stream_720p_2020-03-09-03.52.11.558-UTC_10.mp4\n",
      "Moviepy - Building video /part4/fps15Videos/kalawati/NEOTINY102.stream_720p_2020-03-09-03.52.11.558-UTC_10.mp4.\n",
      "Moviepy - Writing video /part4/fps15Videos/kalawati/NEOTINY102.stream_720p_2020-03-09-03.52.11.558-UTC_10.mp4\n",
      "\n"
     ]
    },
    {
     "name": "stderr",
     "output_type": "stream",
     "text": [
      "                                                                   \r"
     ]
    },
    {
     "name": "stdout",
     "output_type": "stream",
     "text": [
      "Moviepy - Done !\n",
      "Moviepy - video ready /part4/fps15Videos/kalawati/NEOTINY102.stream_720p_2020-03-09-03.52.11.558-UTC_10.mp4\n",
      "finished\n",
      "Setting fps of video:  NEO102.stream_720p_2020-01-21-20.57.30.051-UTC_2.mp4\n"
     ]
    },
    {
     "name": "stderr",
     "output_type": "stream",
     "text": [
      "t:   0%|          | 4/52742 [00:00<22:52, 38.42it/s, now=None]"
     ]
    },
    {
     "name": "stdout",
     "output_type": "stream",
     "text": [
      "Moviepy - Building video /part4/fps15Videos/kalawati/NEO102.stream_720p_2020-01-21-20.57.30.051-UTC_2.mp4.\n",
      "Moviepy - Writing video /part4/fps15Videos/kalawati/NEO102.stream_720p_2020-01-21-20.57.30.051-UTC_2.mp4\n",
      "\n"
     ]
    },
    {
     "name": "stderr",
     "output_type": "stream",
     "text": [
      "                                                                   \r"
     ]
    },
    {
     "name": "stdout",
     "output_type": "stream",
     "text": [
      "Moviepy - Done !\n",
      "Moviepy - video ready /part4/fps15Videos/kalawati/NEO102.stream_720p_2020-01-21-20.57.30.051-UTC_2.mp4\n",
      "finished\n",
      "Setting fps of video:  NEO102.stream_720p_2020-01-17-11.24.55.893-UTC_7.mp4\n"
     ]
    },
    {
     "name": "stderr",
     "output_type": "stream",
     "text": [
      "t:   0%|          | 4/50481 [00:00<22:12, 37.90it/s, now=None]"
     ]
    },
    {
     "name": "stdout",
     "output_type": "stream",
     "text": [
      "Moviepy - Building video /part4/fps15Videos/kalawati/NEO102.stream_720p_2020-01-17-11.24.55.893-UTC_7.mp4.\n",
      "Moviepy - Writing video /part4/fps15Videos/kalawati/NEO102.stream_720p_2020-01-17-11.24.55.893-UTC_7.mp4\n",
      "\n"
     ]
    },
    {
     "name": "stderr",
     "output_type": "stream",
     "text": [
      "                                                                   \r"
     ]
    },
    {
     "name": "stdout",
     "output_type": "stream",
     "text": [
      "Moviepy - Done !\n",
      "Moviepy - video ready /part4/fps15Videos/kalawati/NEO102.stream_720p_2020-01-17-11.24.55.893-UTC_7.mp4\n",
      "finished\n",
      "Setting fps of video:  NEO102.stream_720p_2020-01-17-06.24.25.829-UTC_0.mp4\n",
      "Moviepy - Building video /part4/fps15Videos/kalawati/NEO102.stream_720p_2020-01-17-06.24.25.829-UTC_0.mp4.\n",
      "Moviepy - Writing video /part4/fps15Videos/kalawati/NEO102.stream_720p_2020-01-17-06.24.25.829-UTC_0.mp4\n",
      "\n"
     ]
    },
    {
     "name": "stderr",
     "output_type": "stream",
     "text": [
      "                                                               \r"
     ]
    },
    {
     "name": "stdout",
     "output_type": "stream",
     "text": [
      "Moviepy - Done !\n",
      "Moviepy - video ready /part4/fps15Videos/kalawati/NEO102.stream_720p_2020-01-17-06.24.25.829-UTC_0.mp4\n",
      "finished\n",
      "Setting fps of video:  NEO102.stream_720p_2020-01-24-15.01.37.737-UTC_3.mp4\n"
     ]
    },
    {
     "name": "stderr",
     "output_type": "stream",
     "text": [
      "t:   0%|          | 4/53629 [00:00<23:25, 38.16it/s, now=None]"
     ]
    },
    {
     "name": "stdout",
     "output_type": "stream",
     "text": [
      "Moviepy - Building video /part4/fps15Videos/kalawati/NEO102.stream_720p_2020-01-24-15.01.37.737-UTC_3.mp4.\n",
      "Moviepy - Writing video /part4/fps15Videos/kalawati/NEO102.stream_720p_2020-01-24-15.01.37.737-UTC_3.mp4\n",
      "\n"
     ]
    },
    {
     "name": "stderr",
     "output_type": "stream",
     "text": [
      "                                                                   \r"
     ]
    },
    {
     "name": "stdout",
     "output_type": "stream",
     "text": [
      "Moviepy - Done !\n",
      "Moviepy - video ready /part4/fps15Videos/kalawati/NEO102.stream_720p_2020-01-24-15.01.37.737-UTC_3.mp4\n",
      "finished\n",
      "Setting fps of video:  NEO102.stream_720p_2020-01-17-11.24.55.893-UTC_20.mp4\n",
      "Moviepy - Building video /part4/fps15Videos/kalawati/NEO102.stream_720p_2020-01-17-11.24.55.893-UTC_20.mp4.\n",
      "Moviepy - Writing video /part4/fps15Videos/kalawati/NEO102.stream_720p_2020-01-17-11.24.55.893-UTC_20.mp4\n",
      "\n"
     ]
    },
    {
     "name": "stderr",
     "output_type": "stream",
     "text": [
      "                                                                   \r"
     ]
    },
    {
     "name": "stdout",
     "output_type": "stream",
     "text": [
      "Moviepy - Done !\n",
      "Moviepy - video ready /part4/fps15Videos/kalawati/NEO102.stream_720p_2020-01-17-11.24.55.893-UTC_20.mp4\n",
      "finished\n",
      "Setting fps of video:  NEO102.stream_720p_2020-01-22-03.32.59.313-UTC_1.mp4\n"
     ]
    },
    {
     "name": "stderr",
     "output_type": "stream",
     "text": [
      "t:   0%|          | 4/52959 [00:00<22:29, 39.25it/s, now=None]"
     ]
    },
    {
     "name": "stdout",
     "output_type": "stream",
     "text": [
      "Moviepy - Building video /part4/fps15Videos/kalawati/NEO102.stream_720p_2020-01-22-03.32.59.313-UTC_1.mp4.\n",
      "Moviepy - Writing video /part4/fps15Videos/kalawati/NEO102.stream_720p_2020-01-22-03.32.59.313-UTC_1.mp4\n",
      "\n"
     ]
    },
    {
     "name": "stderr",
     "output_type": "stream",
     "text": [
      "                                                                   \r"
     ]
    },
    {
     "name": "stdout",
     "output_type": "stream",
     "text": [
      "Moviepy - Done !\n",
      "Moviepy - video ready /part4/fps15Videos/kalawati/NEO102.stream_720p_2020-01-22-03.32.59.313-UTC_1.mp4\n",
      "finished\n",
      "Setting fps of video:  NEO102.stream_720p_2020-01-10-11.03.52.944-UTC_1.mp4\n"
     ]
    },
    {
     "name": "stderr",
     "output_type": "stream",
     "text": [
      "t:   0%|          | 3/32216 [00:00<18:01, 29.79it/s, now=None]"
     ]
    },
    {
     "name": "stdout",
     "output_type": "stream",
     "text": [
      "Moviepy - Building video /part4/fps15Videos/kalawati/NEO102.stream_720p_2020-01-10-11.03.52.944-UTC_1.mp4.\n",
      "Moviepy - Writing video /part4/fps15Videos/kalawati/NEO102.stream_720p_2020-01-10-11.03.52.944-UTC_1.mp4\n",
      "\n"
     ]
    },
    {
     "name": "stderr",
     "output_type": "stream",
     "text": [
      "                                                                   \r"
     ]
    },
    {
     "name": "stdout",
     "output_type": "stream",
     "text": [
      "Moviepy - Done !\n",
      "Moviepy - video ready /part4/fps15Videos/kalawati/NEO102.stream_720p_2020-01-10-11.03.52.944-UTC_1.mp4\n",
      "finished\n",
      "Setting fps of video:  NEO102.stream_720p_2020-01-17-11.24.55.893-UTC_4.mp4\n"
     ]
    },
    {
     "name": "stderr",
     "output_type": "stream",
     "text": [
      "t:   0%|          | 3/14700 [00:00<10:52, 22.51it/s, now=None]"
     ]
    },
    {
     "name": "stdout",
     "output_type": "stream",
     "text": [
      "Moviepy - Building video /part4/fps15Videos/kalawati/NEO102.stream_720p_2020-01-17-11.24.55.893-UTC_4.mp4.\n",
      "Moviepy - Writing video /part4/fps15Videos/kalawati/NEO102.stream_720p_2020-01-17-11.24.55.893-UTC_4.mp4\n",
      "\n"
     ]
    },
    {
     "name": "stderr",
     "output_type": "stream",
     "text": [
      "                                                                  \r"
     ]
    },
    {
     "name": "stdout",
     "output_type": "stream",
     "text": [
      "Moviepy - Done !\n",
      "Moviepy - video ready /part4/fps15Videos/kalawati/NEO102.stream_720p_2020-01-17-11.24.55.893-UTC_4.mp4\n",
      "finished\n",
      "Setting fps of video:  NEO102.stream_720p_2020-01-21-08.14.13.220-UTC_2.mp4\n"
     ]
    },
    {
     "name": "stderr",
     "output_type": "stream",
     "text": [
      "t:   0%|          | 4/53992 [00:00<23:02, 39.05it/s, now=None]"
     ]
    },
    {
     "name": "stdout",
     "output_type": "stream",
     "text": [
      "Moviepy - Building video /part4/fps15Videos/kalawati/NEO102.stream_720p_2020-01-21-08.14.13.220-UTC_2.mp4.\n",
      "Moviepy - Writing video /part4/fps15Videos/kalawati/NEO102.stream_720p_2020-01-21-08.14.13.220-UTC_2.mp4\n",
      "\n"
     ]
    },
    {
     "name": "stderr",
     "output_type": "stream",
     "text": [
      "                                                                   \r"
     ]
    },
    {
     "name": "stdout",
     "output_type": "stream",
     "text": [
      "Moviepy - Done !\n",
      "Moviepy - video ready /part4/fps15Videos/kalawati/NEO102.stream_720p_2020-01-21-08.14.13.220-UTC_2.mp4\n",
      "finished\n",
      "Setting fps of video:  NEO102.stream_720p_2020-01-24-15.01.37.737-UTC_5.mp4\n"
     ]
    },
    {
     "name": "stderr",
     "output_type": "stream",
     "text": [
      "t:   0%|          | 3/53825 [00:00<30:12, 29.69it/s, now=None]"
     ]
    },
    {
     "name": "stdout",
     "output_type": "stream",
     "text": [
      "Moviepy - Building video /part4/fps15Videos/kalawati/NEO102.stream_720p_2020-01-24-15.01.37.737-UTC_5.mp4.\n",
      "Moviepy - Writing video /part4/fps15Videos/kalawati/NEO102.stream_720p_2020-01-24-15.01.37.737-UTC_5.mp4\n",
      "\n"
     ]
    },
    {
     "name": "stderr",
     "output_type": "stream",
     "text": [
      "                                                                   \r"
     ]
    },
    {
     "name": "stdout",
     "output_type": "stream",
     "text": [
      "Moviepy - Done !\n",
      "Moviepy - video ready /part4/fps15Videos/kalawati/NEO102.stream_720p_2020-01-24-15.01.37.737-UTC_5.mp4\n",
      "finished\n",
      "Setting fps of video:  NEO102.stream_720p_2020-01-18-06.05.17.098-UTC_8.mp4\n"
     ]
    },
    {
     "name": "stderr",
     "output_type": "stream",
     "text": [
      "t:   0%|          | 4/49889 [00:00<22:35, 36.79it/s, now=None]"
     ]
    },
    {
     "name": "stdout",
     "output_type": "stream",
     "text": [
      "Moviepy - Building video /part4/fps15Videos/kalawati/NEO102.stream_720p_2020-01-18-06.05.17.098-UTC_8.mp4.\n",
      "Moviepy - Writing video /part4/fps15Videos/kalawati/NEO102.stream_720p_2020-01-18-06.05.17.098-UTC_8.mp4\n",
      "\n"
     ]
    },
    {
     "name": "stderr",
     "output_type": "stream",
     "text": [
      "                                                                   \r"
     ]
    },
    {
     "name": "stdout",
     "output_type": "stream",
     "text": [
      "Moviepy - Done !\n",
      "Moviepy - video ready /part4/fps15Videos/kalawati/NEO102.stream_720p_2020-01-18-06.05.17.098-UTC_8.mp4\n",
      "finished\n",
      "Setting fps of video:  NEO101.stream_2020-01-06-13.01.16.203-UTC_1.mp4\n"
     ]
    },
    {
     "name": "stderr",
     "output_type": "stream",
     "text": [
      "t:   0%|          | 3/54000 [00:00<37:18, 24.12it/s, now=None]"
     ]
    },
    {
     "name": "stdout",
     "output_type": "stream",
     "text": [
      "Moviepy - Building video /part4/fps15Videos/kalawati/NEO101.stream_2020-01-06-13.01.16.203-UTC_1.mp4.\n",
      "Moviepy - Writing video /part4/fps15Videos/kalawati/NEO101.stream_2020-01-06-13.01.16.203-UTC_1.mp4\n",
      "\n"
     ]
    },
    {
     "name": "stderr",
     "output_type": "stream",
     "text": [
      "t:   0%|          | 0/28263 [00:00<?, ?it/s, now=None]            "
     ]
    },
    {
     "name": "stdout",
     "output_type": "stream",
     "text": [
      "Moviepy - Done !\n",
      "Moviepy - video ready /part4/fps15Videos/kalawati/NEO101.stream_2020-01-06-13.01.16.203-UTC_1.mp4\n",
      "finished\n",
      "Setting fps of video:  NEO101.stream_720p_2020-01-09-05.57.30.232-UTC_1.mp4\n",
      "Moviepy - Building video /part4/fps15Videos/kalawati/NEO101.stream_720p_2020-01-09-05.57.30.232-UTC_1.mp4.\n",
      "Moviepy - Writing video /part4/fps15Videos/kalawati/NEO101.stream_720p_2020-01-09-05.57.30.232-UTC_1.mp4\n",
      "\n"
     ]
    },
    {
     "name": "stderr",
     "output_type": "stream",
     "text": [
      "                                                                   \r"
     ]
    },
    {
     "name": "stdout",
     "output_type": "stream",
     "text": [
      "Moviepy - Done !\n",
      "Moviepy - video ready /part4/fps15Videos/kalawati/NEO101.stream_720p_2020-01-09-05.57.30.232-UTC_1.mp4\n",
      "finished\n",
      "Setting fps of video:  NEO102.stream_720p_2020-01-15-12.39.24.937-UTC_3.mp4\n"
     ]
    },
    {
     "name": "stderr",
     "output_type": "stream",
     "text": [
      "t:   0%|          | 4/53758 [00:00<23:59, 37.35it/s, now=None]"
     ]
    },
    {
     "name": "stdout",
     "output_type": "stream",
     "text": [
      "Moviepy - Building video /part4/fps15Videos/kalawati/NEO102.stream_720p_2020-01-15-12.39.24.937-UTC_3.mp4.\n",
      "Moviepy - Writing video /part4/fps15Videos/kalawati/NEO102.stream_720p_2020-01-15-12.39.24.937-UTC_3.mp4\n",
      "\n"
     ]
    },
    {
     "name": "stderr",
     "output_type": "stream",
     "text": [
      "                                                                   \r"
     ]
    },
    {
     "name": "stdout",
     "output_type": "stream",
     "text": [
      "Moviepy - Done !\n",
      "Moviepy - video ready /part4/fps15Videos/kalawati/NEO102.stream_720p_2020-01-15-12.39.24.937-UTC_3.mp4\n",
      "finished\n",
      "Setting fps of video:  NEO102.stream_720p_2020-01-18-06.05.17.098-UTC_2.mp4\n"
     ]
    },
    {
     "name": "stderr",
     "output_type": "stream",
     "text": [
      "t:   0%|          | 4/51797 [00:00<23:37, 36.55it/s, now=None]"
     ]
    },
    {
     "name": "stdout",
     "output_type": "stream",
     "text": [
      "Moviepy - Building video /part4/fps15Videos/kalawati/NEO102.stream_720p_2020-01-18-06.05.17.098-UTC_2.mp4.\n",
      "Moviepy - Writing video /part4/fps15Videos/kalawati/NEO102.stream_720p_2020-01-18-06.05.17.098-UTC_2.mp4\n",
      "\n"
     ]
    },
    {
     "name": "stderr",
     "output_type": "stream",
     "text": [
      "                                                                   \r"
     ]
    },
    {
     "name": "stdout",
     "output_type": "stream",
     "text": [
      "Moviepy - Done !\n",
      "Moviepy - video ready /part4/fps15Videos/kalawati/NEO102.stream_720p_2020-01-18-06.05.17.098-UTC_2.mp4\n",
      "finished\n",
      "Setting fps of video:  NEO106.stream_720p_2020-01-05-08.25.30.277-UTC_1.mp4\n"
     ]
    },
    {
     "name": "stderr",
     "output_type": "stream",
     "text": [
      "t:   0%|          | 4/53998 [00:00<23:18, 38.60it/s, now=None]"
     ]
    },
    {
     "name": "stdout",
     "output_type": "stream",
     "text": [
      "Moviepy - Building video /part4/fps15Videos/kalawati/NEO106.stream_720p_2020-01-05-08.25.30.277-UTC_1.mp4.\n",
      "Moviepy - Writing video /part4/fps15Videos/kalawati/NEO106.stream_720p_2020-01-05-08.25.30.277-UTC_1.mp4\n",
      "\n"
     ]
    },
    {
     "name": "stderr",
     "output_type": "stream",
     "text": [
      "                                                                   \r"
     ]
    },
    {
     "name": "stdout",
     "output_type": "stream",
     "text": [
      "Moviepy - Done !\n",
      "Moviepy - video ready /part4/fps15Videos/kalawati/NEO106.stream_720p_2020-01-05-08.25.30.277-UTC_1.mp4\n",
      "finished\n",
      "Setting fps of video:  NEOTINY102.stream_720p_2020-03-06-06.02.08.256-UTC_0.mp4\n"
     ]
    },
    {
     "name": "stderr",
     "output_type": "stream",
     "text": [
      "t:   0%|          | 4/52059 [00:00<23:30, 36.91it/s, now=None]"
     ]
    },
    {
     "name": "stdout",
     "output_type": "stream",
     "text": [
      "Moviepy - Building video /part4/fps15Videos/kalawati/NEOTINY102.stream_720p_2020-03-06-06.02.08.256-UTC_0.mp4.\n",
      "Moviepy - Writing video /part4/fps15Videos/kalawati/NEOTINY102.stream_720p_2020-03-06-06.02.08.256-UTC_0.mp4\n",
      "\n"
     ]
    },
    {
     "name": "stderr",
     "output_type": "stream",
     "text": [
      "t:   0%|          | 0/22487 [00:00<?, ?it/s, now=None]             "
     ]
    },
    {
     "name": "stdout",
     "output_type": "stream",
     "text": [
      "Moviepy - Done !\n",
      "Moviepy - video ready /part4/fps15Videos/kalawati/NEOTINY102.stream_720p_2020-03-06-06.02.08.256-UTC_0.mp4\n",
      "finished\n",
      "Setting fps of video:  NEO101.stream_720p_2020-01-10-12.11.21.560-UTC_0.mp4\n",
      "Moviepy - Building video /part4/fps15Videos/kalawati/NEO101.stream_720p_2020-01-10-12.11.21.560-UTC_0.mp4.\n",
      "Moviepy - Writing video /part4/fps15Videos/kalawati/NEO101.stream_720p_2020-01-10-12.11.21.560-UTC_0.mp4\n",
      "\n"
     ]
    },
    {
     "name": "stderr",
     "output_type": "stream",
     "text": [
      "t:  72%|███████▏  | 16096/22487 [02:24<00:57, 111.31it/s, now=None]"
     ]
    }
   ],
   "source": [
    "path='/part2/KalawatiVideoData/'\n",
    "for i in os.listdir(path): \n",
    "    try:   \n",
    "        if (i in videolist_k) :\n",
    "            print('Setting fps of video: ', i)\n",
    "            video = path + i\n",
    "            clip = VideoFileClip(video)\n",
    "            clip.write_videofile('/part4/fps15Videos/kalawati/'+ i, fps=15)\n",
    "            print('finished')\n",
    "    except:\n",
    "        continue"
   ]
  },
  {
   "cell_type": "code",
   "execution_count": null,
   "metadata": {},
   "outputs": [],
   "source": [
    "data_m = pd.read_excel(pathExcel+'video_tags (13).xlsx')"
   ]
  },
  {
   "cell_type": "code",
   "execution_count": null,
   "metadata": {},
   "outputs": [],
   "source": [
    "data_m_dia=data_m[data_m['Label']=='Diaper_change']"
   ]
  },
  {
   "cell_type": "code",
   "execution_count": null,
   "metadata": {},
   "outputs": [],
   "source": [
    "data_m_feed=data_m[data_m['Label']=='Feeding']"
   ]
  },
  {
   "cell_type": "code",
   "execution_count": null,
   "metadata": {},
   "outputs": [],
   "source": [
    "data_m_pat=data_m[data_m['Label']=='Patting']"
   ]
  },
  {
   "cell_type": "code",
   "execution_count": null,
   "metadata": {},
   "outputs": [],
   "source": [
    "data_m_rel=pd.concat([data_m_dia,data_m_feed,data_m_pat])"
   ]
  },
  {
   "cell_type": "code",
   "execution_count": null,
   "metadata": {},
   "outputs": [],
   "source": [
    "m_video=data_m_rel['Video (Title)'].unique()"
   ]
  },
  {
   "cell_type": "code",
   "execution_count": null,
   "metadata": {},
   "outputs": [],
   "source": [
    "videolist_m=m_video.tolist()"
   ]
  },
  {
   "cell_type": "code",
   "execution_count": null,
   "metadata": {},
   "outputs": [],
   "source": [
    "path='/part1/MotiNagarVideoData/'\n",
    "for i in os.listdir(path): \n",
    "    try:   \n",
    "        if (i in videolist_k) :\n",
    "            print('Setting fps of video: ', i)\n",
    "            video = path + i\n",
    "            clip = VideoFileClip(video)\n",
    "            clip.write_videofile('/part4/fps15Videos/motinagar/'+ i, fps=15)\n",
    "            print('finished')\n",
    "    except:\n",
    "        continue"
   ]
  }
 ],
 "metadata": {
  "kernelspec": {
   "display_name": "Python 3",
   "language": "python",
   "name": "python3"
  },
  "language_info": {
   "codemirror_mode": {
    "name": "ipython",
    "version": 3
   },
   "file_extension": ".py",
   "mimetype": "text/x-python",
   "name": "python",
   "nbconvert_exporter": "python",
   "pygments_lexer": "ipython3",
   "version": "3.6.9"
  }
 },
 "nbformat": 4,
 "nbformat_minor": 2
}
