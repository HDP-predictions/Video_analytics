{
 "cells": [
  {
   "cell_type": "code",
   "execution_count": 2,
   "metadata": {},
   "outputs": [],
   "source": [
    "import psycopg2\n",
    "import pandas as pd\n",
    "import matplotlib.pyplot as plt\n",
    "%matplotlib inline\n",
    "import datetime\n",
    "import seaborn as sns\n",
    "import xlrd\n",
    "import cv2\n",
    "import os\n",
    "import csv\n",
    "import re\n",
    "import pandas as pd\n",
    "import array as arr\n",
    "import numpy as np\n",
    "from datetime import datetime, timedelta\n",
    "\n",
    "pd.set_option('display.max_rows', 5000)\n",
    "pd.set_option('display.max_columns', 5000)\n",
    "\n",
    "#Read csv files and convert it to excel files\n",
    "read_file = pd.read_csv (r'apollobeddevicecetail.csv')\n",
    "read_file.to_excel (r'file1.xlsx', index = None, header=True)\n",
    "\n",
    "read_file = pd.read_csv (r'apollorefinicubbox_17april.csv')\n",
    "read_file.to_excel (r'file2.xlsx', index = None, header=True)\n",
    "\n",
    "#Open Excel file\n",
    "file1 = pd.read_excel('file1.xlsx')\n",
    "file2 = pd.read_excel('file2.xlsx')\n",
    "file3 = pd.read_excel('MotinagarWithISt.xlsx')"
   ]
  },
  {
   "cell_type": "code",
   "execution_count": 3,
   "metadata": {},
   "outputs": [],
   "source": [
    "from datetime import datetime\n",
    "from dateutil import tz\n",
    "from datetime import timedelta  "
   ]
  },
  {
   "cell_type": "code",
   "execution_count": 3,
   "metadata": {},
   "outputs": [],
   "source": [
    "#txt_1 = pd.read_csv('finalFile_1.txt', sep=\" \", header=None)"
   ]
  },
  {
   "cell_type": "code",
   "execution_count": 4,
   "metadata": {},
   "outputs": [],
   "source": [
    "#txt_2 = pd.read_csv('finalFile_2.txt', sep=\" \",header=None,skiprows=True)"
   ]
  },
  {
   "cell_type": "code",
   "execution_count": 5,
   "metadata": {},
   "outputs": [],
   "source": [
    "#txt = pd.concat([txt_1,txt_2])"
   ]
  },
  {
   "cell_type": "code",
   "execution_count": 4,
   "metadata": {},
   "outputs": [],
   "source": [
    "txt = pd.read_csv('finalFile_3.txt', sep=\" \",header=None)"
   ]
  },
  {
   "cell_type": "code",
   "execution_count": null,
   "metadata": {},
   "outputs": [],
   "source": []
  },
  {
   "cell_type": "code",
   "execution_count": null,
   "metadata": {},
   "outputs": [],
   "source": [
    "t = pd.DataFrame(columns=['Video (Title)','START'])"
   ]
  },
  {
   "cell_type": "code",
   "execution_count": 5,
   "metadata": {},
   "outputs": [],
   "source": [
    "txt = txt.rename(columns={0: 'Video (Title)', 1: 'Start'})"
   ]
  },
  {
   "cell_type": "code",
   "execution_count": 6,
   "metadata": {},
   "outputs": [],
   "source": [
    "txt.dropna(inplace=True)"
   ]
  },
  {
   "cell_type": "code",
   "execution_count": null,
   "metadata": {},
   "outputs": [],
   "source": []
  },
  {
   "cell_type": "code",
   "execution_count": 7,
   "metadata": {},
   "outputs": [],
   "source": [
    "def extract_time(x):\n",
    "    \n",
    "    \n",
    "    t = str(x).split(\"_\")[1]\n",
    "    if t != '720p':\n",
    "        from_zone = tz.tzutc()\n",
    "        to_zone = tz.tzlocal()\n",
    "        test = t.split(\"-\")[0] +\"-\" + t.split(\"-\")[1] + \"-\" + t.split(\"-\")[2] + \" \" + ((t.split(\"-\")[3]).split(\".\")[0] +\":\"+ (t.split(\"-\")[3]).split(\".\")[1] + \":\"+ (t.split(\"-\")[3]).split(\".\")[2])\n",
    "        utc = datetime.strptime(test, '%Y-%m-%d %H:%M:%S')\n",
    "        central = utc.astimezone(to_zone)\n",
    "        central = pd.to_datetime(central)+timedelta(seconds=19800)\n",
    "    else:\n",
    "        t = str(x).split(\"_\")[2]\n",
    "        from_zone = tz.tzutc()\n",
    "        to_zone = tz.tzlocal()\n",
    "        test = t.split(\"-\")[0] +\"-\" + t.split(\"-\")[1] + \"-\" + t.split(\"-\")[2] + \" \" + ((t.split(\"-\")[3]).split(\".\")[0] +\":\"+ (t.split(\"-\")[3]).split(\".\")[1] + \":\"+ (t.split(\"-\")[3]).split(\".\")[2])\n",
    "        utc = datetime.strptime(test, '%Y-%m-%d %H:%M:%S')\n",
    "        central = utc.astimezone(to_zone)\n",
    "        central = pd.to_datetime(central)+timedelta(seconds=19800)\n",
    "        \n",
    "    return ((str(pd.to_datetime(central)).split(\"+\")[0]))\n",
    "\n",
    "def extract_neo(x):\n",
    "    s = str(x).split(\"_\")[0]\n",
    "    \n",
    "    return (s.split(\" \")[-1].split(\".\")[0].lower())\n",
    "\n",
    "def extract_seq(x):\n",
    "    s = str(x).split(\"_\")[-1]\n",
    "    \n",
    "    return s.split(\".\")[0]\n",
    "\n",
    "def to_split_0(x):\n",
    "    x = str(x)\n",
    "    return x.split(\".\")[0]\n",
    "def to_split_1(x):\n",
    "    try:\n",
    "        x = str(x)\n",
    "        return x.split(\".\")[1]\n",
    "    except:\n",
    "        pass\n",
    "\n",
    "def date_extract(x):\n",
    "    return x.split(\" \")[0]\n",
    "\n",
    "def time_join(x,y):\n",
    "    try:\n",
    "    \n",
    "        to_zone = tz.tzlocal()\n",
    "        test = str(x)+\" \"+str(y)\n",
    "        utc = datetime.strptime(test, '%Y-%m-%d %H:%M:%S')\n",
    "        central = utc.astimezone(to_zone)\n",
    "        central = pd.to_datetime(central)+timedelta(seconds=19800)\n",
    "        return central\n",
    "    except:\n",
    "        to_zone = tz.tzlocal()\n",
    "        test = str(x)+\" \"+str(y)\n",
    "        utc = datetime.strptime(test, '%Y-%m-%d %H.%M.%S')\n",
    "        central = utc.astimezone(to_zone)\n",
    "        central = pd.to_datetime(central)+timedelta(seconds=19800)\n",
    "        return central\n",
    "    \n",
    "    \n",
    "        \n",
    "    \n",
    "    \n",
    "    \n",
    "    "
   ]
  },
  {
   "cell_type": "code",
   "execution_count": 8,
   "metadata": {},
   "outputs": [],
   "source": [
    "file3['NEO'] = file3['Video (Title)'].apply(extract_neo)"
   ]
  },
  {
   "cell_type": "code",
   "execution_count": 9,
   "metadata": {},
   "outputs": [],
   "source": [
    "file3['Start_time_NEO'] = file3['Video (Title)'].apply(extract_time)"
   ]
  },
  {
   "cell_type": "code",
   "execution_count": 10,
   "metadata": {},
   "outputs": [],
   "source": [
    "t = pd.merge(file3,txt,on='Video (Title)',how='left')"
   ]
  },
  {
   "cell_type": "code",
   "execution_count": 11,
   "metadata": {},
   "outputs": [],
   "source": [
    "t.dropna(subset=['Start'],inplace=True)"
   ]
  },
  {
   "cell_type": "code",
   "execution_count": 12,
   "metadata": {},
   "outputs": [
    {
     "data": {
      "text/plain": [
       "'2019-12-20 10:42:53'"
      ]
     },
     "execution_count": 12,
     "metadata": {},
     "output_type": "execute_result"
    }
   ],
   "source": [
    "t.Start_time_NEO.iloc[0]"
   ]
  },
  {
   "cell_type": "code",
   "execution_count": 13,
   "metadata": {},
   "outputs": [],
   "source": [
    "t['start_date'] = t['Start_time_NEO'].apply(date_extract)"
   ]
  },
  {
   "cell_type": "code",
   "execution_count": 14,
   "metadata": {},
   "outputs": [],
   "source": [
    "t['NEO_START_TIME'] = t.apply(lambda x: time_join(x['start_date'], x['Start']), axis=1)"
   ]
  },
  {
   "cell_type": "code",
   "execution_count": null,
   "metadata": {},
   "outputs": [],
   "source": []
  },
  {
   "cell_type": "code",
   "execution_count": 15,
   "metadata": {},
   "outputs": [],
   "source": [
    "file3 = t.copy()"
   ]
  },
  {
   "cell_type": "code",
   "execution_count": 16,
   "metadata": {},
   "outputs": [],
   "source": [
    "file3['Tag'] = file3['Video (Title)'].apply(extract_seq)"
   ]
  },
  {
   "cell_type": "code",
   "execution_count": 17,
   "metadata": {},
   "outputs": [],
   "source": [
    "file3['to_min'] = file3['To (min.sec)'].apply(to_split_1)\n",
    "file3['From_min'] = file3['From (min.sec)'].apply(to_split_1)\n",
    "file3['to_Hour'] = file3['To (min.sec)'].apply(to_split_0)\n",
    "file3['From_Hour'] = file3['From (min.sec)'].apply(to_split_0)\n",
    "file3['to_min'] = file3['to_min'].astype(float)\n",
    "file3['From_min'] = file3['From_min'].astype(float)"
   ]
  },
  {
   "cell_type": "code",
   "execution_count": 18,
   "metadata": {},
   "outputs": [],
   "source": [
    "def replace_NIL(x):\n",
    "    if x == 'NIL' or x =='camera angle changed':\n",
    "        return '0'\n",
    "    else:\n",
    "        return x"
   ]
  },
  {
   "cell_type": "code",
   "execution_count": 19,
   "metadata": {},
   "outputs": [],
   "source": [
    "file3['to_Hour'] = file3['to_Hour'].apply(replace_NIL)\n",
    "file3['to_Hour'] = file3['to_Hour'].astype(float)"
   ]
  },
  {
   "cell_type": "code",
   "execution_count": 20,
   "metadata": {},
   "outputs": [],
   "source": [
    "file3['From_Hour'] = file3['From_Hour'].apply(replace_NIL)\n",
    "file3['From_Hour'] = file3['From_Hour'].astype(float)"
   ]
  },
  {
   "cell_type": "code",
   "execution_count": 21,
   "metadata": {},
   "outputs": [],
   "source": [
    "df = pd.DataFrame()"
   ]
  },
  {
   "cell_type": "code",
   "execution_count": 22,
   "metadata": {
    "scrolled": true
   },
   "outputs": [
    {
     "name": "stdout",
     "output_type": "stream",
     "text": [
      "1\n",
      "2\n",
      "NEO109.stream_2019-12-20-05.12.53.790-UTC_1.mp4\n",
      "neo109 NEO109.stream_2019-12-20-05.12.53.790-UTC_1.mp4 336.0\n",
      "NEO109.stream_2019-12-23-12.41.36.889-UTC_0.mp4\n"
     ]
    },
    {
     "name": "stderr",
     "output_type": "stream",
     "text": [
      "C:\\Users\\Dell\\Anaconda3\\lib\\site-packages\\ipykernel_launcher.py:12: SettingWithCopyWarning: \n",
      "A value is trying to be set on a copy of a slice from a DataFrame.\n",
      "Try using .loc[row_indexer,col_indexer] = value instead\n",
      "\n",
      "See the caveats in the documentation: http://pandas.pydata.org/pandas-docs/stable/indexing.html#indexing-view-versus-copy\n",
      "  if sys.path[0] == '':\n",
      "C:\\Users\\Dell\\Anaconda3\\lib\\site-packages\\ipykernel_launcher.py:14: SettingWithCopyWarning: \n",
      "A value is trying to be set on a copy of a slice from a DataFrame.\n",
      "Try using .loc[row_indexer,col_indexer] = value instead\n",
      "\n",
      "See the caveats in the documentation: http://pandas.pydata.org/pandas-docs/stable/indexing.html#indexing-view-versus-copy\n",
      "  \n"
     ]
    },
    {
     "name": "stdout",
     "output_type": "stream",
     "text": [
      "neo109 NEO109.stream_2019-12-23-12.41.36.889-UTC_0.mp4 244.0\n",
      "NEO109.stream_2019-12-23-12.41.36.889-UTC_1.mp4\n",
      "neo109 NEO109.stream_2019-12-23-12.41.36.889-UTC_1.mp4 19.0\n",
      "NEO109.stream_2019-12-23-12.41.36.889-UTC_2.mp4\n",
      "neo109 NEO109.stream_2019-12-23-12.41.36.889-UTC_2.mp4 68.0\n",
      "NEO109.stream_2019-12-23-12.41.36.889-UTC_3.mp4\n",
      "neo109 NEO109.stream_2019-12-23-12.41.36.889-UTC_3.mp4 1491.0\n",
      "NEO109.stream_2019-12-23-12.41.36.889-UTC_4.mp4\n",
      "neo109 NEO109.stream_2019-12-23-12.41.36.889-UTC_4.mp4 613.0\n",
      "NEO109.stream_2019-12-23-12.41.36.889-UTC_5.mp4\n",
      "neo109 NEO109.stream_2019-12-23-12.41.36.889-UTC_5.mp4 0.0\n",
      "NEO109.stream_2019-12-23-12.41.36.889-UTC_6.mp4\n",
      "neo109 NEO109.stream_2019-12-23-12.41.36.889-UTC_6.mp4 161.0\n",
      "NEO109.stream_2019-12-23-12.41.36.889-UTC_7.mp4\n",
      "neo109 NEO109.stream_2019-12-23-12.41.36.889-UTC_7.mp4 2.0\n",
      "NEO109.stream_2019-12-23-12.41.36.889-UTC_8.mp4\n",
      "neo109 NEO109.stream_2019-12-23-12.41.36.889-UTC_8.mp4 5.0\n",
      "NEO109.stream_2019-12-23-12.41.36.889-UTC_9.mp4\n",
      "neo109 NEO109.stream_2019-12-23-12.41.36.889-UTC_9.mp4 518.0\n",
      "NEO109.stream_2019-12-23-12.41.36.889-UTC_10.mp4\n",
      "neo109 NEO109.stream_2019-12-23-12.41.36.889-UTC_10.mp4 353.0\n",
      "NEO109.stream_2019-12-24-12.21.17.157-UTC_0.mp4\n",
      "neo109 NEO109.stream_2019-12-24-12.21.17.157-UTC_0.mp4 714.0\n",
      "NEO109.stream_2019-12-24-12.21.17.157-UTC_1.mp4\n",
      "neo109 NEO109.stream_2019-12-24-12.21.17.157-UTC_1.mp4 0.0\n",
      "NEO109.stream_2019-12-27-07.16.07.883-UTC_0.mp4\n",
      "neo109 NEO109.stream_2019-12-27-07.16.07.883-UTC_0.mp4 0.0\n",
      "NEO109.stream_2019-12-27-09.26.51.821-UTC_0.mp4\n",
      "neo109 NEO109.stream_2019-12-27-09.26.51.821-UTC_0.mp4 0.0\n",
      "NEO109.stream_2019-12-27-09.26.51.821-UTC_1.mp4\n",
      "neo109 NEO109.stream_2019-12-27-09.26.51.821-UTC_1.mp4 0.0\n",
      "NEO109.stream_2019-12-27-09.26.51.821-UTC_2.mp4\n",
      "neo109 NEO109.stream_2019-12-27-09.26.51.821-UTC_2.mp4 682.0\n",
      "NEO109.stream_2019-12-27-09.26.51.821-UTC_3.mp4\n",
      "neo109 NEO109.stream_2019-12-27-09.26.51.821-UTC_3.mp4 10.0\n",
      "NEO109.stream_2019-12-27-09.26.51.821-UTC_4.mp4\n",
      "neo109 NEO109.stream_2019-12-27-09.26.51.821-UTC_4.mp4 300.0\n",
      "NEO109.stream_2019-12-27-09.26.51.821-UTC_5.mp4\n",
      "neo109 NEO109.stream_2019-12-27-09.26.51.821-UTC_5.mp4 96.0\n",
      "NEO109.stream_2019-12-27-09.26.51.821-UTC_6.mp4\n",
      "neo109 NEO109.stream_2019-12-27-09.26.51.821-UTC_6.mp4 572.0\n",
      "NEO109.stream_2019-12-27-09.26.51.821-UTC_7.mp4\n",
      "neo109 NEO109.stream_2019-12-27-09.26.51.821-UTC_7.mp4 46.0\n",
      "NEO109.stream_2019-12-27-09.26.51.821-UTC_8.mp4\n",
      "neo109 NEO109.stream_2019-12-27-09.26.51.821-UTC_8.mp4 959.0\n",
      "NEO109.stream_2019-12-27-09.26.51.821-UTC_9.mp4\n",
      "neo109 NEO109.stream_2019-12-27-09.26.51.821-UTC_9.mp4 11.0\n",
      "NEO109.stream_2019-12-27-09.26.51.821-UTC_10.mp4\n",
      "neo109 NEO109.stream_2019-12-27-09.26.51.821-UTC_10.mp4 597.0\n",
      "NEO109.stream_2019-12-27-09.26.51.821-UTC_11.mp4\n",
      "neo109 NEO109.stream_2019-12-27-09.26.51.821-UTC_11.mp4 68.0\n",
      "NEO109.stream_2019-12-27-09.26.51.821-UTC_12.mp4\n",
      "neo109 NEO109.stream_2019-12-27-09.26.51.821-UTC_12.mp4 369.0\n",
      "NEO109.stream_2019-12-27-09.26.51.821-UTC_13.mp4\n",
      "neo109 NEO109.stream_2019-12-27-09.26.51.821-UTC_13.mp4 300.0\n",
      "NEO109.stream_2019-12-27-09.26.51.821-UTC_14.mp4\n",
      "neo109 NEO109.stream_2019-12-27-09.26.51.821-UTC_14.mp4 425.0\n",
      "NEO109.stream_2019-12-27-09.26.51.821-UTC_15.mp4\n",
      "neo109 NEO109.stream_2019-12-27-09.26.51.821-UTC_15.mp4 0.0\n",
      "NEO109.stream_2019-12-27-09.26.51.821-UTC_16.mp4\n",
      "neo109 NEO109.stream_2019-12-27-09.26.51.821-UTC_16.mp4 1829.0\n",
      "NEO109.stream_2019-12-27-09.26.51.821-UTC_17.mp4\n",
      "neo109 NEO109.stream_2019-12-27-09.26.51.821-UTC_17.mp4 308.0\n",
      "NEO109.stream_2019-12-27-09.26.51.821-UTC_18.mp4\n",
      "neo109 NEO109.stream_2019-12-27-09.26.51.821-UTC_18.mp4 291.0\n",
      "NEO109.stream_2019-12-27-09.26.51.821-UTC_19.mp4\n",
      "neo109 NEO109.stream_2019-12-27-09.26.51.821-UTC_19.mp4 385.0\n",
      "NEO109.stream_2019-12-27-09.26.51.821-UTC_20.mp4\n",
      "neo109 NEO109.stream_2019-12-27-09.26.51.821-UTC_20.mp4 301.0\n",
      "NEO109.stream_2019-12-27-09.26.51.821-UTC_21.mp4\n",
      "neo109 NEO109.stream_2019-12-27-09.26.51.821-UTC_21.mp4 463.0\n",
      "NEO109.stream_2019-12-27-09.26.51.821-UTC_22.mp4\n",
      "neo109 NEO109.stream_2019-12-27-09.26.51.821-UTC_22.mp4 1282.0\n",
      "NEO109.stream_2019-12-27-09.26.51.821-UTC_23.mp4\n",
      "neo109 NEO109.stream_2019-12-27-09.26.51.821-UTC_23.mp4 70.0\n",
      "NEO109.stream_2019-12-27-09.26.51.821-UTC_24.mp4\n",
      "neo109 NEO109.stream_2019-12-27-09.26.51.821-UTC_24.mp4 599.0\n",
      "NEO109.stream_2019-12-27-09.26.51.821-UTC_25.mp4\n",
      "neo109 NEO109.stream_2019-12-27-09.26.51.821-UTC_25.mp4 0.0\n",
      "NEO109.stream_2019-12-27-09.26.51.821-UTC_26.mp4\n",
      "neo109 NEO109.stream_2019-12-27-09.26.51.821-UTC_26.mp4 515.0\n",
      "NEO109.stream_2019-12-27-09.26.51.821-UTC_27.mp4\n",
      "neo109 NEO109.stream_2019-12-27-09.26.51.821-UTC_27.mp4 36.0\n",
      "NEO109.stream_2019-12-27-09.26.51.821-UTC_28.mp4\n",
      "neo109 NEO109.stream_2019-12-27-09.26.51.821-UTC_28.mp4 313.0\n",
      "NEO109.stream_2019-12-27-09.26.51.821-UTC_29.mp4\n",
      "neo109 NEO109.stream_2019-12-27-09.26.51.821-UTC_29.mp4 71.0\n",
      "1\n",
      "2\n",
      "NEOTINY104.stream_720p_2020-02-13-17.34.02.601-UTC_4.mp4\n",
      "neotiny104 NEOTINY104.stream_720p_2020-02-13-17.34.02.601-UTC_4.mp4 0.0\n",
      "NEOTINY104.stream_720p_2020-02-13-17.34.02.601-UTC_5.mp4\n",
      "neotiny104 NEOTINY104.stream_720p_2020-02-13-17.34.02.601-UTC_5.mp4 0.0\n",
      "NEOTINY104.stream_720p_2020-02-13-17.34.02.601-UTC_7.mp4\n",
      "neotiny104 NEOTINY104.stream_720p_2020-02-13-17.34.02.601-UTC_7.mp4 0.0\n",
      "NEOTINY104.stream_720p_2020-02-13-17.34.02.601-UTC_8.mp4\n",
      "neotiny104 NEOTINY104.stream_720p_2020-02-13-17.34.02.601-UTC_8.mp4 0.0\n",
      "NEOTINY104.stream_720p_2020-02-13-17.34.02.601-UTC_9.mp4\n",
      "neotiny104 NEOTINY104.stream_720p_2020-02-13-17.34.02.601-UTC_9.mp4 0.0\n",
      "NEOTINY104.stream_720p_2020-02-13-17.34.02.601-UTC_10.mp4\n",
      "neotiny104 NEOTINY104.stream_720p_2020-02-13-17.34.02.601-UTC_10.mp4 0.0\n",
      "NEOTINY104.stream_720p_2020-02-14-03.47.26.488-UTC_0.mp4\n",
      "neotiny104 NEOTINY104.stream_720p_2020-02-14-03.47.26.488-UTC_0.mp4 0.0\n",
      "NEOTINY104.stream_720p_2020-02-14-03.47.26.488-UTC_2.mp4\n",
      "neotiny104 NEOTINY104.stream_720p_2020-02-14-03.47.26.488-UTC_2.mp4 0.0\n",
      "NEOTINY104.stream_720p_2020-02-14-03.47.26.488-UTC_3.mp4\n",
      "neotiny104 NEOTINY104.stream_720p_2020-02-14-03.47.26.488-UTC_3.mp4 160.0\n",
      "NEOTINY104.stream_720p_2020-02-26-06.41.31.944-UTC_1.mp4\n",
      "neotiny104 NEOTINY104.stream_720p_2020-02-26-06.41.31.944-UTC_1.mp4 0.0\n",
      "NEOTINY104.stream_720p_2020-02-26-09.01.29.969-UTC_2.mp4\n",
      "neotiny104 NEOTINY104.stream_720p_2020-02-26-09.01.29.969-UTC_2.mp4 0.0\n",
      "NEOTINY104.stream_720p_2020-02-26-11.26.47.524-UTC_0.mp4\n",
      "neotiny104 NEOTINY104.stream_720p_2020-02-26-11.26.47.524-UTC_0.mp4 0.0\n",
      "NEOTINY104.stream_720p_2020-02-26-11.34.20.402-UTC_1.mp4\n",
      "neotiny104 NEOTINY104.stream_720p_2020-02-26-11.34.20.402-UTC_1.mp4 0.0\n",
      "NEOTINY104.stream_720p_2020-02-26-12.16.33.951-UTC_0.mp4\n",
      "neotiny104 NEOTINY104.stream_720p_2020-02-26-12.16.33.951-UTC_0.mp4 50.0\n",
      "NEOTINY104.stream_720p_2020-02-26-12.16.33.951-UTC_1.mp4\n",
      "neotiny104 NEOTINY104.stream_720p_2020-02-26-12.16.33.951-UTC_1.mp4 0.0\n",
      "NEOTINY104.stream_720p_2020-02-26-14.39.19.956-UTC_0.mp4\n",
      "neotiny104 NEOTINY104.stream_720p_2020-02-26-14.39.19.956-UTC_0.mp4 0.0\n",
      "NEOTINY104.stream_720p_2020-02-26-14.41.00.377-UTC_0.mp4\n",
      "neotiny104 NEOTINY104.stream_720p_2020-02-26-14.41.00.377-UTC_0.mp4 0.0\n",
      "NEOTINY104.stream_720p_2020-02-26-14.44.08.508-UTC_0.mp4\n",
      "neotiny104 NEOTINY104.stream_720p_2020-02-26-14.44.08.508-UTC_0.mp4 0.0\n",
      "NEOTINY104.stream_720p_2020-02-26-14.49.34.522-UTC_0.mp4\n",
      "neotiny104 NEOTINY104.stream_720p_2020-02-26-14.49.34.522-UTC_0.mp4 0.0\n",
      "NEOTINY104.stream_720p_2020-02-26-14.51.02.381-UTC_0.mp4\n",
      "neotiny104 NEOTINY104.stream_720p_2020-02-26-14.51.02.381-UTC_0.mp4 0.0\n",
      "NEOTINY104.stream_720p_2020-02-26-14.51.02.381-UTC_1.mp4\n",
      "neotiny104 NEOTINY104.stream_720p_2020-02-26-14.51.02.381-UTC_1.mp4 0.0\n",
      "NEOTINY104.stream_720p_2020-02-26-16.14.35.211-UTC_0.mp4\n",
      "neotiny104 NEOTINY104.stream_720p_2020-02-26-16.14.35.211-UTC_0.mp4 0.0\n",
      "NEOTINY104.stream_720p_2020-02-26-16.18.56.986-UTC_0.mp4\n",
      "neotiny104 NEOTINY104.stream_720p_2020-02-26-16.18.56.986-UTC_0.mp4 0.0\n",
      "NEOTINY104.stream_720p_2020-02-26-17.05.15.873-UTC_0.mp4\n",
      "neotiny104 NEOTINY104.stream_720p_2020-02-26-17.05.15.873-UTC_0.mp4 0.0\n",
      "NEOTINY104.stream_720p_2020-02-26-17.06.18.669-UTC_0.mp4\n",
      "neotiny104 NEOTINY104.stream_720p_2020-02-26-17.06.18.669-UTC_0.mp4 0.0\n",
      "NEOTINY104.stream_720p_2020-02-26-17.09.02.025-UTC_0.mp4\n",
      "neotiny104 NEOTINY104.stream_720p_2020-02-26-17.09.02.025-UTC_0.mp4 0.0\n",
      "NEOTINY104.stream_720p_2020-02-26-17.18.26.884-UTC_0.mp4\n",
      "neotiny104 NEOTINY104.stream_720p_2020-02-26-17.18.26.884-UTC_0.mp4 0.0\n",
      "NEOTINY104.stream_720p_2020-02-26-18.52.24.298-UTC_0.mp4\n"
     ]
    },
    {
     "name": "stdout",
     "output_type": "stream",
     "text": [
      "neotiny104 NEOTINY104.stream_720p_2020-02-26-18.52.24.298-UTC_0.mp4 0.0\n",
      "NEOTINY104.stream_720p_2020-02-26-18.54.54.972-UTC_0.mp4\n",
      "neotiny104 NEOTINY104.stream_720p_2020-02-26-18.54.54.972-UTC_0.mp4 0.0\n",
      "NEOTINY104.stream_720p_2020-02-26-18.57.00.065-UTC_0.mp4\n",
      "neotiny104 NEOTINY104.stream_720p_2020-02-26-18.57.00.065-UTC_0.mp4 0.0\n",
      "NEOTINY104.stream_720p_2020-02-26-21.23.20.317-UTC_0.mp4\n",
      "neotiny104 NEOTINY104.stream_720p_2020-02-26-21.23.20.317-UTC_0.mp4 0.0\n",
      "NEOTINY104.stream_720p_2020-02-26-21.26.16.298-UTC_0.mp4\n",
      "neotiny104 NEOTINY104.stream_720p_2020-02-26-21.26.16.298-UTC_0.mp4 0.0\n",
      "NEOTINY104.stream_720p_2020-02-26-21.31.29.705-UTC_2.mp4\n",
      "neotiny104 NEOTINY104.stream_720p_2020-02-26-21.31.29.705-UTC_2.mp4 0.0\n",
      "NEOTINY104.stream_720p_2020-02-26-21.31.29.705-UTC_3.mp4\n",
      "neotiny104 NEOTINY104.stream_720p_2020-02-26-21.31.29.705-UTC_3.mp4 81.0\n",
      "NEOTINY104.stream_720p_2020-02-26-21.31.29.705-UTC_4.mp4\n",
      "neotiny104 NEOTINY104.stream_720p_2020-02-26-21.31.29.705-UTC_4.mp4 0.0\n",
      "NEOTINY104.stream_720p_2020-02-26-21.31.29.705-UTC_5.mp4\n",
      "neotiny104 NEOTINY104.stream_720p_2020-02-26-21.31.29.705-UTC_5.mp4 0.0\n",
      "NEOTINY104.stream_720p_2020-02-27-02.32.30.304-UTC_0.mp4\n",
      "neotiny104 NEOTINY104.stream_720p_2020-02-27-02.32.30.304-UTC_0.mp4 0.0\n",
      "NEOTINY104.stream_720p_2020-02-27-02.37.20.118-UTC_1.mp4\n",
      "neotiny104 NEOTINY104.stream_720p_2020-02-27-02.37.20.118-UTC_1.mp4 16.0\n",
      "NEOTINY104.stream_720p_2020-02-27-02.37.20.118-UTC_2.mp4\n",
      "neotiny104 NEOTINY104.stream_720p_2020-02-27-02.37.20.118-UTC_2.mp4 40.0\n",
      "NEOTINY104.stream_720p_2020-02-27-02.37.20.118-UTC_3.mp4\n",
      "neotiny104 NEOTINY104.stream_720p_2020-02-27-02.37.20.118-UTC_3.mp4 54.0\n",
      "NEOTINY104.stream_720p_2020-02-27-06.07.10.787-UTC_0.mp4\n",
      "neotiny104 NEOTINY104.stream_720p_2020-02-27-06.07.10.787-UTC_0.mp4 0.0\n",
      "NEOTINY104.stream_720p_2020-02-27-06.18.13.087-UTC_0.mp4\n",
      "neotiny104 NEOTINY104.stream_720p_2020-02-27-06.18.13.087-UTC_0.mp4 0.0\n",
      "NEOTINY104.stream_720p_2020-02-27-06.20.23.611-UTC_0.mp4\n",
      "neotiny104 NEOTINY104.stream_720p_2020-02-27-06.20.23.611-UTC_0.mp4 0.0\n",
      "NEOTINY104.stream_720p_2020-02-27-06.21.53.492-UTC_1.mp4\n",
      "neotiny104 NEOTINY104.stream_720p_2020-02-27-06.21.53.492-UTC_1.mp4 7.0\n",
      "NEOTINY104.stream_720p_2020-02-27-11.59.40.126-UTC_1.mp4\n",
      "neotiny104 NEOTINY104.stream_720p_2020-02-27-11.59.40.126-UTC_1.mp4 61.0\n",
      "NEOTINY104.stream_720p_2020-02-27-11.59.40.126-UTC_3.mp4\n",
      "neotiny104 NEOTINY104.stream_720p_2020-02-27-11.59.40.126-UTC_3.mp4 55.0\n",
      "NEOTINY104.stream_2020-03-30-09.44.29.372-UTC_0.mp4\n",
      "neotiny104 NEOTINY104.stream_2020-03-30-09.44.29.372-UTC_0.mp4 0.0\n",
      "NEOTINY104.stream_2020-03-30-09.44.29.372-UTC_1.mp4\n",
      "neotiny104 NEOTINY104.stream_2020-03-30-09.44.29.372-UTC_1.mp4 185.0\n",
      "NEOTINY104.stream_2020-03-30-09.44.29.372-UTC_2.mp4\n",
      "neotiny104 NEOTINY104.stream_2020-03-30-09.44.29.372-UTC_2.mp4 0.0\n",
      "NEOTINY104.stream_2020-03-30-09.44.29.372-UTC_3.mp4\n",
      "neotiny104 NEOTINY104.stream_2020-03-30-09.44.29.372-UTC_3.mp4 313.0\n",
      "NEOTINY104.stream_2020-03-30-09.44.29.372-UTC_4.mp4\n",
      "neotiny104 NEOTINY104.stream_2020-03-30-09.44.29.372-UTC_4.mp4 831.0\n",
      "NEOTINY104.stream_2020-03-30-09.44.29.372-UTC_5.mp4\n",
      "neotiny104 NEOTINY104.stream_2020-03-30-09.44.29.372-UTC_5.mp4 531.0\n",
      "NEOTINY104.stream_2020-03-30-09.44.29.372-UTC_6.mp4\n",
      "neotiny104 NEOTINY104.stream_2020-03-30-09.44.29.372-UTC_6.mp4 83.0\n",
      "NEOTINY104.stream_2020-03-30-09.44.29.372-UTC_7.mp4\n",
      "neotiny104 NEOTINY104.stream_2020-03-30-09.44.29.372-UTC_7.mp4 425.0\n",
      "NEOTINY104.stream_2020-03-30-09.44.29.372-UTC_8.mp4\n",
      "neotiny104 NEOTINY104.stream_2020-03-30-09.44.29.372-UTC_8.mp4 68.0\n",
      "NEOTINY104.stream_2020-03-30-09.44.29.372-UTC_9.mp4\n",
      "neotiny104 NEOTINY104.stream_2020-03-30-09.44.29.372-UTC_9.mp4 0.0\n",
      "NEOTINY104.stream_2020-03-30-09.44.29.372-UTC_10.mp4\n",
      "neotiny104 NEOTINY104.stream_2020-03-30-09.44.29.372-UTC_10.mp4 0.0\n",
      "NEOTINY104.stream_2020-03-30-09.44.29.372-UTC_11.mp4\n",
      "neotiny104 NEOTINY104.stream_2020-03-30-09.44.29.372-UTC_11.mp4 911.0\n",
      "NEOTINY104.stream_720p_2020-03-31-06.45.48.422-UTC_0.mp4\n",
      "neotiny104 NEOTINY104.stream_720p_2020-03-31-06.45.48.422-UTC_0.mp4 7.0\n",
      "NEOTINY104.stream_720p_2020-03-31-06.45.48.422-UTC_1.mp4\n",
      "neotiny104 NEOTINY104.stream_720p_2020-03-31-06.45.48.422-UTC_1.mp4 6.0\n",
      "NEOTINY104.stream_720p_2020-03-31-06.45.48.422-UTC_2.mp4\n",
      "neotiny104 NEOTINY104.stream_720p_2020-03-31-06.45.48.422-UTC_2.mp4 120.0\n",
      "NEOTINY104.stream_720p_2020-03-31-06.45.48.422-UTC_3.mp4\n",
      "neotiny104 NEOTINY104.stream_720p_2020-03-31-06.45.48.422-UTC_3.mp4 35.0\n",
      "NEOTINY104.stream_720p_2020-03-31-06.45.48.422-UTC_4.mp4\n",
      "neotiny104 NEOTINY104.stream_720p_2020-03-31-06.45.48.422-UTC_4.mp4 136.0\n",
      "NEOTINY104.stream_720p_2020-03-31-06.45.48.422-UTC_5.mp4\n",
      "neotiny104 NEOTINY104.stream_720p_2020-03-31-06.45.48.422-UTC_5.mp4 84.0\n",
      "NEOTINY104.stream_720p_2020-03-31-06.45.48.422-UTC_6.mp4\n",
      "neotiny104 NEOTINY104.stream_720p_2020-03-31-06.45.48.422-UTC_6.mp4 157.0\n",
      "NEOTINY104.stream_720p_2020-03-31-06.45.48.422-UTC_7.mp4\n",
      "neotiny104 NEOTINY104.stream_720p_2020-03-31-06.45.48.422-UTC_7.mp4 106.0\n",
      "NEOTINY104.stream_720p_2020-03-31-06.45.48.422-UTC_8.mp4\n",
      "neotiny104 NEOTINY104.stream_720p_2020-03-31-06.45.48.422-UTC_8.mp4 234.0\n",
      "NEOTINY104.stream_720p_2020-03-31-06.45.48.422-UTC_9.mp4\n",
      "neotiny104 NEOTINY104.stream_720p_2020-03-31-06.45.48.422-UTC_9.mp4 61.0\n",
      "NEOTINY104.stream_720p_2020-03-31-06.45.48.422-UTC_10.mp4\n",
      "neotiny104 NEOTINY104.stream_720p_2020-03-31-06.45.48.422-UTC_10.mp4 -163.0\n",
      "NEOTINY104.stream_720p_2020-03-31-06.45.48.422-UTC_11.mp4\n",
      "neotiny104 NEOTINY104.stream_720p_2020-03-31-06.45.48.422-UTC_11.mp4 2.0\n",
      "NEOTINY104.stream_720p_2020-03-31-06.45.48.422-UTC_12.mp4\n",
      "neotiny104 NEOTINY104.stream_720p_2020-03-31-06.45.48.422-UTC_12.mp4 0.0\n",
      "NEOTINY104.stream_720p_2020-03-31-06.45.48.422-UTC_13.mp4\n",
      "neotiny104 NEOTINY104.stream_720p_2020-03-31-06.45.48.422-UTC_13.mp4 0.0\n"
     ]
    }
   ],
   "source": [
    "for i in file3['NEO'].unique():\n",
    "    print(1)\n",
    "    x = file3[file3['NEO']==i]\n",
    "    print(2)\n",
    "    for j in x['Video (Title)'].unique():\n",
    "        #print(j)\n",
    "        try:\n",
    "            print(j)\n",
    "            y = x[x['Video (Title)']==j]\n",
    "            #for k in x['tags'].unique():\n",
    "            #z = x[x['tags']==k]\n",
    "            y['Duration'] = (y['to_Hour']*60 + y['to_min']) - (y['From_Hour']*60 + y['From_min'])\n",
    "            #y['Duration_shift'] = y['Duration'].shift(1,axis=0)\n",
    "            y['cummulative_duration'] = y['Duration'].cumsum()\n",
    "            df = df.append(y,ignore_index=True)\n",
    "            \n",
    "            \n",
    "            print(i,j,np.nansum(y['Duration']))\n",
    "        \n",
    "        except:\n",
    "            continue"
   ]
  },
  {
   "cell_type": "code",
   "execution_count": 23,
   "metadata": {},
   "outputs": [],
   "source": [
    "df['END'] = 0\n",
    "df['cummulative_duration'].fillna(0,inplace=True)"
   ]
  },
  {
   "cell_type": "code",
   "execution_count": 24,
   "metadata": {},
   "outputs": [
    {
     "name": "stderr",
     "output_type": "stream",
     "text": [
      "C:\\Users\\Dell\\Anaconda3\\lib\\site-packages\\pandas\\core\\indexing.py:189: SettingWithCopyWarning: \n",
      "A value is trying to be set on a copy of a slice from a DataFrame\n",
      "\n",
      "See the caveats in the documentation: http://pandas.pydata.org/pandas-docs/stable/indexing.html#indexing-view-versus-copy\n",
      "  self._setitem_with_indexer(indexer, value)\n"
     ]
    }
   ],
   "source": [
    "for i in range(len(df)):\n",
    "    df['END'].iloc[i] = pd.to_datetime(df['NEO_START_TIME'].iloc[i]) + timedelta(seconds=df['cummulative_duration'].iloc[i])"
   ]
  },
  {
   "cell_type": "code",
   "execution_count": 25,
   "metadata": {},
   "outputs": [],
   "source": [
    "df['START'] = 0\n",
    "df['Duration'].fillna(0,inplace=True)"
   ]
  },
  {
   "cell_type": "code",
   "execution_count": 26,
   "metadata": {},
   "outputs": [],
   "source": [
    "for i in range(len(df)):\n",
    "    df['START'].iloc[i] = pd.to_datetime(df['END'].iloc[i]) - timedelta(seconds=df['Duration'].iloc[i])"
   ]
  },
  {
   "cell_type": "code",
   "execution_count": null,
   "metadata": {},
   "outputs": [],
   "source": []
  },
  {
   "cell_type": "code",
   "execution_count": 27,
   "metadata": {},
   "outputs": [],
   "source": [
    "df.to_csv('times_apollo_5.csv')"
   ]
  },
  {
   "cell_type": "code",
   "execution_count": 56,
   "metadata": {},
   "outputs": [],
   "source": [
    "g = df[df['Video (Title)']=='NEO109.stream_2019-12-23-12.41.36.889-UTC_0.mp4']"
   ]
  },
  {
   "cell_type": "code",
   "execution_count": 57,
   "metadata": {},
   "outputs": [
    {
     "data": {
      "text/html": [
       "<div>\n",
       "<style scoped>\n",
       "    .dataframe tbody tr th:only-of-type {\n",
       "        vertical-align: middle;\n",
       "    }\n",
       "\n",
       "    .dataframe tbody tr th {\n",
       "        vertical-align: top;\n",
       "    }\n",
       "\n",
       "    .dataframe thead th {\n",
       "        text-align: right;\n",
       "    }\n",
       "</style>\n",
       "<table border=\"1\" class=\"dataframe\">\n",
       "  <thead>\n",
       "    <tr style=\"text-align: right;\">\n",
       "      <th></th>\n",
       "      <th>UHID</th>\n",
       "      <th>Video (Title)</th>\n",
       "      <th>Total Duration of video file (min.sec)</th>\n",
       "      <th>From (min.sec)</th>\n",
       "      <th>To (min.sec)</th>\n",
       "      <th>Procedure</th>\n",
       "      <th>Label</th>\n",
       "      <th>Duration (seconds)</th>\n",
       "      <th>Procedure_IST_Time</th>\n",
       "      <th>From_IST_Time</th>\n",
       "      <th>NEO</th>\n",
       "      <th>Start_time_NEO</th>\n",
       "      <th>Start</th>\n",
       "      <th>start_date</th>\n",
       "      <th>NEO_START_TIME</th>\n",
       "      <th>Tag</th>\n",
       "      <th>to_min</th>\n",
       "      <th>From_min</th>\n",
       "      <th>to_Hour</th>\n",
       "      <th>From_Hour</th>\n",
       "      <th>Duration</th>\n",
       "      <th>cummulative_duration</th>\n",
       "      <th>END</th>\n",
       "      <th>START</th>\n",
       "    </tr>\n",
       "  </thead>\n",
       "  <tbody>\n",
       "    <tr>\n",
       "      <th>9</th>\n",
       "      <td>RSHI.0000021833</td>\n",
       "      <td>NEO109.stream_2019-12-23-12.41.36.889-UTC_0.mp4</td>\n",
       "      <td>17.49</td>\n",
       "      <td>00.00</td>\n",
       "      <td>01.54</td>\n",
       "      <td>Feeding through OG tube</td>\n",
       "      <td>Feeding</td>\n",
       "      <td>114</td>\n",
       "      <td>2019-12-23 18:11:36</td>\n",
       "      <td>2019-12-23 18:11:36</td>\n",
       "      <td>neo109</td>\n",
       "      <td>2019-12-23 18:11:36</td>\n",
       "      <td>12.41.36</td>\n",
       "      <td>2019-12-23</td>\n",
       "      <td>2019-12-23 18:11:36+05:30</td>\n",
       "      <td>0</td>\n",
       "      <td>54.0</td>\n",
       "      <td>0.0</td>\n",
       "      <td>1.0</td>\n",
       "      <td>0.0</td>\n",
       "      <td>114.0</td>\n",
       "      <td>114.0</td>\n",
       "      <td>2019-12-23 18:13:30+05:30</td>\n",
       "      <td>2019-12-23 18:11:36+05:30</td>\n",
       "    </tr>\n",
       "    <tr>\n",
       "      <th>10</th>\n",
       "      <td>RSHI.0000021833</td>\n",
       "      <td>NEO109.stream_2019-12-23-12.41.36.889-UTC_0.mp4</td>\n",
       "      <td>17.49</td>\n",
       "      <td>00.00</td>\n",
       "      <td>01.54</td>\n",
       "      <td>Feeding through OG tube</td>\n",
       "      <td>Feeding</td>\n",
       "      <td>114</td>\n",
       "      <td>2019-12-23 18:11:36</td>\n",
       "      <td>2019-12-23 18:11:36</td>\n",
       "      <td>neo109</td>\n",
       "      <td>2019-12-23 18:11:36</td>\n",
       "      <td>12.41.36</td>\n",
       "      <td>2019-12-23</td>\n",
       "      <td>2019-12-23 18:11:36+05:30</td>\n",
       "      <td>0</td>\n",
       "      <td>54.0</td>\n",
       "      <td>0.0</td>\n",
       "      <td>1.0</td>\n",
       "      <td>0.0</td>\n",
       "      <td>114.0</td>\n",
       "      <td>228.0</td>\n",
       "      <td>2019-12-23 18:15:24+05:30</td>\n",
       "      <td>2019-12-23 18:13:30+05:30</td>\n",
       "    </tr>\n",
       "    <tr>\n",
       "      <th>11</th>\n",
       "      <td>RSHI.0000021833</td>\n",
       "      <td>NEO109.stream_2019-12-23-12.41.36.889-UTC_0.mp4</td>\n",
       "      <td>17.49</td>\n",
       "      <td>12.23</td>\n",
       "      <td>12.31</td>\n",
       "      <td>Administration through IV line</td>\n",
       "      <td>Other</td>\n",
       "      <td>7</td>\n",
       "      <td>2019-12-23 18:23:59</td>\n",
       "      <td>2019-12-23 18:11:36</td>\n",
       "      <td>neo109</td>\n",
       "      <td>2019-12-23 18:11:36</td>\n",
       "      <td>12.41.36</td>\n",
       "      <td>2019-12-23</td>\n",
       "      <td>2019-12-23 18:11:36+05:30</td>\n",
       "      <td>0</td>\n",
       "      <td>31.0</td>\n",
       "      <td>23.0</td>\n",
       "      <td>12.0</td>\n",
       "      <td>12.0</td>\n",
       "      <td>8.0</td>\n",
       "      <td>236.0</td>\n",
       "      <td>2019-12-23 18:15:32+05:30</td>\n",
       "      <td>2019-12-23 18:15:24+05:30</td>\n",
       "    </tr>\n",
       "    <tr>\n",
       "      <th>12</th>\n",
       "      <td>RSHI.0000021833</td>\n",
       "      <td>NEO109.stream_2019-12-23-12.41.36.889-UTC_0.mp4</td>\n",
       "      <td>17.49</td>\n",
       "      <td>12.23</td>\n",
       "      <td>12.31</td>\n",
       "      <td>Administration through IV line</td>\n",
       "      <td>Other</td>\n",
       "      <td>7</td>\n",
       "      <td>2019-12-23 18:23:59</td>\n",
       "      <td>2019-12-23 18:11:36</td>\n",
       "      <td>neo109</td>\n",
       "      <td>2019-12-23 18:11:36</td>\n",
       "      <td>12.41.36</td>\n",
       "      <td>2019-12-23</td>\n",
       "      <td>2019-12-23 18:11:36+05:30</td>\n",
       "      <td>0</td>\n",
       "      <td>31.0</td>\n",
       "      <td>23.0</td>\n",
       "      <td>12.0</td>\n",
       "      <td>12.0</td>\n",
       "      <td>8.0</td>\n",
       "      <td>244.0</td>\n",
       "      <td>2019-12-23 18:15:40+05:30</td>\n",
       "      <td>2019-12-23 18:15:32+05:30</td>\n",
       "    </tr>\n",
       "  </tbody>\n",
       "</table>\n",
       "</div>"
      ],
      "text/plain": [
       "               UHID                                    Video (Title)  \\\n",
       "9   RSHI.0000021833  NEO109.stream_2019-12-23-12.41.36.889-UTC_0.mp4   \n",
       "10  RSHI.0000021833  NEO109.stream_2019-12-23-12.41.36.889-UTC_0.mp4   \n",
       "11  RSHI.0000021833  NEO109.stream_2019-12-23-12.41.36.889-UTC_0.mp4   \n",
       "12  RSHI.0000021833  NEO109.stream_2019-12-23-12.41.36.889-UTC_0.mp4   \n",
       "\n",
       "    Total Duration of video file (min.sec) From (min.sec) To (min.sec)  \\\n",
       "9                                    17.49          00.00        01.54   \n",
       "10                                   17.49          00.00        01.54   \n",
       "11                                   17.49          12.23        12.31   \n",
       "12                                   17.49          12.23        12.31   \n",
       "\n",
       "                         Procedure    Label Duration (seconds)  \\\n",
       "9          Feeding through OG tube  Feeding                114   \n",
       "10         Feeding through OG tube  Feeding                114   \n",
       "11  Administration through IV line    Other                  7   \n",
       "12  Administration through IV line    Other                  7   \n",
       "\n",
       "     Procedure_IST_Time        From_IST_Time     NEO       Start_time_NEO  \\\n",
       "9   2019-12-23 18:11:36  2019-12-23 18:11:36  neo109  2019-12-23 18:11:36   \n",
       "10  2019-12-23 18:11:36  2019-12-23 18:11:36  neo109  2019-12-23 18:11:36   \n",
       "11  2019-12-23 18:23:59  2019-12-23 18:11:36  neo109  2019-12-23 18:11:36   \n",
       "12  2019-12-23 18:23:59  2019-12-23 18:11:36  neo109  2019-12-23 18:11:36   \n",
       "\n",
       "       Start  start_date            NEO_START_TIME Tag  to_min  From_min  \\\n",
       "9   12.41.36  2019-12-23 2019-12-23 18:11:36+05:30   0    54.0       0.0   \n",
       "10  12.41.36  2019-12-23 2019-12-23 18:11:36+05:30   0    54.0       0.0   \n",
       "11  12.41.36  2019-12-23 2019-12-23 18:11:36+05:30   0    31.0      23.0   \n",
       "12  12.41.36  2019-12-23 2019-12-23 18:11:36+05:30   0    31.0      23.0   \n",
       "\n",
       "    to_Hour  From_Hour  Duration  cummulative_duration  \\\n",
       "9       1.0        0.0     114.0                 114.0   \n",
       "10      1.0        0.0     114.0                 228.0   \n",
       "11     12.0       12.0       8.0                 236.0   \n",
       "12     12.0       12.0       8.0                 244.0   \n",
       "\n",
       "                          END                      START  \n",
       "9   2019-12-23 18:13:30+05:30  2019-12-23 18:11:36+05:30  \n",
       "10  2019-12-23 18:15:24+05:30  2019-12-23 18:13:30+05:30  \n",
       "11  2019-12-23 18:15:32+05:30  2019-12-23 18:15:24+05:30  \n",
       "12  2019-12-23 18:15:40+05:30  2019-12-23 18:15:32+05:30  "
      ]
     },
     "execution_count": 57,
     "metadata": {},
     "output_type": "execute_result"
    }
   ],
   "source": [
    "g"
   ]
  },
  {
   "cell_type": "code",
   "execution_count": null,
   "metadata": {},
   "outputs": [],
   "source": [
    "time_join_test(g['start_date'].iloc[0],g['Start'].iloc[0])"
   ]
  },
  {
   "cell_type": "code",
   "execution_count": null,
   "metadata": {},
   "outputs": [],
   "source": [
    "df"
   ]
  },
  {
   "cell_type": "code",
   "execution_count": null,
   "metadata": {},
   "outputs": [],
   "source": [
    "def time_join_test(x,y):\n",
    "    #try:\n",
    "    \n",
    "    to_zone = tz.tzlocal()\n",
    "    test = str(x)+\" \"+str(y)\n",
    "    utc = datetime.strptime(test, '%Y-%m-%d %H.%M.%S')\n",
    "    central = utc.astimezone(to_zone)\n",
    "    central = pd.to_datetime(central)+timedelta(seconds=19800)\n",
    "    return central"
   ]
  },
  {
   "cell_type": "code",
   "execution_count": 42,
   "metadata": {},
   "outputs": [
    {
     "name": "stdout",
     "output_type": "stream",
     "text": [
      "UHID                                                                                    NaN\n",
      "Video (Title)                             NEOTINY104.stream_720p_2020-03-31-06.45.48.422...\n",
      "Total Duration of video file (min.sec)                                                14.07\n",
      "From (min.sec)                                                                         9.44\n",
      "To (min.sec)                                                                           9.51\n",
      "Procedure                                              Position change from prone to supine\n",
      "Label                                                                                     -\n",
      "Duration (seconds)                                                                      NaN\n",
      "Procedure_IST_Time                                                      2020-03-31 12:25:32\n",
      "From_IST_Time                                                           2020-03-31 12:15:48\n",
      "NEO                                                                              neotiny104\n",
      "Start_time_NEO                                                          2020-03-31 12:15:48\n",
      "Start                                                                              06.45.48\n",
      "start_date                                                                       2020-03-31\n",
      "NEO_START_TIME                                                    2020-03-31 12:15:48+05:30\n",
      "Name: 479, dtype: object\n"
     ]
    }
   ],
   "source": [
    "print(t.iloc[477])"
   ]
  },
  {
   "cell_type": "code",
   "execution_count": 25,
   "metadata": {},
   "outputs": [],
   "source": [
    "t.to_csv('check.csv')"
   ]
  },
  {
   "cell_type": "code",
   "execution_count": null,
   "metadata": {},
   "outputs": [],
   "source": []
  }
 ],
 "metadata": {
  "kernelspec": {
   "display_name": "Python 3",
   "language": "python",
   "name": "python3"
  },
  "language_info": {
   "codemirror_mode": {
    "name": "ipython",
    "version": 3
   },
   "file_extension": ".py",
   "mimetype": "text/x-python",
   "name": "python",
   "nbconvert_exporter": "python",
   "pygments_lexer": "ipython3",
   "version": "3.7.3"
  }
 },
 "nbformat": 4,
 "nbformat_minor": 2
}
