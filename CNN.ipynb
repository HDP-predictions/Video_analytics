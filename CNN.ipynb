{
 "cells": [
  {
   "cell_type": "code",
   "execution_count": 1,
   "metadata": {},
   "outputs": [
    {
     "name": "stderr",
     "output_type": "stream",
     "text": [
      "/usr/lib/python3/dist-packages/h5py/__init__.py:36: FutureWarning: Conversion of the second argument of issubdtype from `float` to `np.floating` is deprecated. In future, it will be treated as `np.float64 == np.dtype(float).type`.\n",
      "  from ._conv import register_converters as _register_converters\n",
      "Using TensorFlow backend.\n"
     ]
    }
   ],
   "source": [
    "# Seed value\n",
    "# Apparently you may use different seed values at each stage\n",
    "seed_value= 1\n",
    "\n",
    "# 1. Set the `PYTHONHASHSEED` environment variable at a fixed value\n",
    "import os\n",
    "os.environ['PYTHONHASHSEED']=str(seed_value)\n",
    "\n",
    "# 2. Set the `python` built-in pseudo-random generator at a fixed value\n",
    "import random\n",
    "random.seed(seed_value)\n",
    "\n",
    "# 3. Set the `numpy` pseudo-random generator at a fixed value\n",
    "import numpy as np\n",
    "np.random.seed(seed_value)\n",
    "\n",
    "# 4. Set the `tensorflow` pseudo-random generator at a fixed value\n",
    "import tensorflow as tf\n",
    "#tf.random.set_seed(seed_value)\n",
    "# for later versions: \n",
    "tf.compat.v1.set_random_seed(seed_value)\n",
    "\n",
    "# 5. Configure a new global `tensorflow` session\n",
    "from keras import backend as K\n",
    "#session_conf = tf.ConfigProto()\n",
    "#sess = tf.Session(graph=tf.get_default_graph(), config=session_conf)\n",
    "#K.set_session(sess)\n",
    "# for later versions:\n",
    "# session_conf = tf.compat.v1.ConfigProto(intra_op_parallelism_threads=1, inter_op_parallelism_threads=1)\n",
    "# sess = tf.compat.v1.Session(graph=tf.compat.v1.get_default_graph(), config=session_conf)\n",
    "# tf.compat.v1.keras.backend.set_session(sess)\n",
    "from keras.applications.inception_v3 import InceptionV3\n",
    "from keras.preprocessing import image\n",
    "from keras.models import Model\n",
    "from keras.layers import Dense, GlobalAveragePooling2D\n",
    "from keras import backend as K\n",
    "from keras.models import Sequential\n",
    "from keras.layers import Dropout, Flatten, Dense\n",
    "from keras import applications\n",
    "from keras.optimizers import SGD\n",
    "from sklearn.utils import shuffle\n",
    "from keras.preprocessing.image import ImageDataGenerator\n",
    "from keras.callbacks import EarlyStopping, ModelCheckpoint\n",
    "#from keras.applications.vgg16 import VGG16\n",
    "from keras.layers import LSTM\n",
    "#import numpy as np\n",
    "import glob\n",
    "from imageio import imread\n",
    "from skimage.transform import resize as imresize\n",
    "from keras.layers import LeakyReLU\n",
    "from keras.applications.inception_v3 import preprocess_input"
   ]
  },
  {
   "cell_type": "code",
   "execution_count": 2,
   "metadata": {},
   "outputs": [],
   "source": [
    "batch_size = 120"
   ]
  },
  {
   "cell_type": "code",
   "execution_count": 3,
   "metadata": {},
   "outputs": [],
   "source": [
    "def bring_data_from_directory():\n",
    "    datagen = ImageDataGenerator(preprocessing_function=preprocess_input) #included in our dependencies\n",
    "\n",
    "    train_generator = datagen.flow_from_directory(\n",
    "          '/part4/fps15Videos/data/train',\n",
    "          target_size=(224, 224),\n",
    "          batch_size=batch_size,\n",
    "          class_mode='categorical',\n",
    "          shuffle=True,\n",
    "          classes=['diaper_change','feeding','patting'])\n",
    "\n",
    "    validation_generator = datagen.flow_from_directory(\n",
    "          '/part4/fps15Videos/data/validate',\n",
    "          target_size=(224, 224),\n",
    "         batch_size=batch_size,\n",
    "          class_mode='categorical',  \n",
    "          shuffle=True,\n",
    "          classes=['diaper_change','feeding','patting'])\n",
    "\n",
    "    return train_generator,validation_generator"
   ]
  },
  {
   "cell_type": "code",
   "execution_count": 4,
   "metadata": {},
   "outputs": [
    {
     "name": "stdout",
     "output_type": "stream",
     "text": [
      "Found 35679 images belonging to 3 classes.\n",
      "Found 7174 images belonging to 3 classes.\n"
     ]
    }
   ],
   "source": [
    "train_generator,validation_generator = bring_data_from_directory()"
   ]
  },
  {
   "cell_type": "code",
   "execution_count": 5,
   "metadata": {},
   "outputs": [
    {
     "name": "stdout",
     "output_type": "stream",
     "text": [
      "WARNING:tensorflow:From /usr/local/lib/python3.6/dist-packages/keras/backend/tensorflow_backend.py:4070: The name tf.nn.max_pool is deprecated. Please use tf.nn.max_pool2d instead.\n",
      "\n",
      "WARNING:tensorflow:From /usr/local/lib/python3.6/dist-packages/keras/backend/tensorflow_backend.py:4074: The name tf.nn.avg_pool is deprecated. Please use tf.nn.avg_pool2d instead.\n",
      "\n"
     ]
    }
   ],
   "source": [
    "pretrained_model = InceptionV3(weights='imagenet', include_top=False, input_shape=(224,224,3), pooling='avg')\n",
    "pretrained_model.trainable = False"
   ]
  },
  {
   "cell_type": "code",
   "execution_count": 6,
   "metadata": {},
   "outputs": [],
   "source": [
    "model = Sequential()\n",
    "model.add(pretrained_model)\n",
    "model.add(Dense(2048))\n",
    "model.add(Dense(3, activation='softmax'))\n",
    "model.compile(optimizer='adam', loss='categorical_crossentropy', metrics=['accuracy'])\n",
    "\n",
    "es =   EarlyStopping(monitor='val_loss', patience=8, verbose=0)"
   ]
  },
  {
   "cell_type": "code",
   "execution_count": 7,
   "metadata": {},
   "outputs": [
    {
     "name": "stdout",
     "output_type": "stream",
     "text": [
      "WARNING:tensorflow:From /usr/local/lib/python3.6/dist-packages/keras/backend/tensorflow_backend.py:422: The name tf.global_variables is deprecated. Please use tf.compat.v1.global_variables instead.\n",
      "\n",
      "Epoch 1/40\n",
      "298/298 [==============================] - 639s 2s/step - loss: 0.9444 - accuracy: 0.8043 - val_loss: 2.5287 - val_accuracy: 0.6287\n",
      "Epoch 2/40\n",
      "298/298 [==============================] - 633s 2s/step - loss: 0.2630 - accuracy: 0.9008 - val_loss: 4.5252 - val_accuracy: 0.6156\n",
      "Epoch 3/40\n",
      "298/298 [==============================] - 629s 2s/step - loss: 0.2034 - accuracy: 0.9266 - val_loss: 3.4329 - val_accuracy: 0.6239\n",
      "Epoch 4/40\n",
      "298/298 [==============================] - 629s 2s/step - loss: 0.1749 - accuracy: 0.9360 - val_loss: 3.1399 - val_accuracy: 0.6110\n",
      "Epoch 5/40\n",
      "298/298 [==============================] - 627s 2s/step - loss: 0.1875 - accuracy: 0.9321 - val_loss: 4.1678 - val_accuracy: 0.5998\n",
      "Epoch 6/40\n",
      "298/298 [==============================] - 627s 2s/step - loss: 0.1620 - accuracy: 0.9400 - val_loss: 3.9057 - val_accuracy: 0.6165\n",
      "Epoch 7/40\n",
      "298/298 [==============================] - 627s 2s/step - loss: 0.1483 - accuracy: 0.9466 - val_loss: 4.2591 - val_accuracy: 0.5756\n",
      "Epoch 8/40\n",
      "298/298 [==============================] - 622s 2s/step - loss: 0.1833 - accuracy: 0.9336 - val_loss: 4.0953 - val_accuracy: 0.5767\n",
      "Epoch 9/40\n",
      "298/298 [==============================] - 624s 2s/step - loss: 0.1425 - accuracy: 0.9458 - val_loss: 4.3830 - val_accuracy: 0.5347\n"
     ]
    }
   ],
   "source": [
    "transfer = model.fit_generator(train_generator,epochs=40,validation_data=validation_generator,callbacks=[es])"
   ]
  },
  {
   "cell_type": "code",
   "execution_count": 8,
   "metadata": {},
   "outputs": [
    {
     "name": "stdout",
     "output_type": "stream",
     "text": [
      "Model: \"sequential_1\"\n",
      "_________________________________________________________________\n",
      "Layer (type)                 Output Shape              Param #   \n",
      "=================================================================\n",
      "inception_v3 (Model)         (None, 2048)              21802784  \n",
      "_________________________________________________________________\n",
      "dense_1 (Dense)              (None, 2048)              4196352   \n",
      "_________________________________________________________________\n",
      "dense_2 (Dense)              (None, 3)                 6147      \n",
      "=================================================================\n",
      "Total params: 26,005,283\n",
      "Trainable params: 4,202,499\n",
      "Non-trainable params: 21,802,784\n",
      "_________________________________________________________________\n"
     ]
    }
   ],
   "source": [
    "model.summary()"
   ]
  },
  {
   "cell_type": "code",
   "execution_count": 9,
   "metadata": {},
   "outputs": [],
   "source": [
    "I_layer = Model(inputs=model.inputs, outputs=model.layers[-2].output)"
   ]
  },
  {
   "cell_type": "code",
   "execution_count": 10,
   "metadata": {},
   "outputs": [],
   "source": [
    "I_layer.save('Tuned_inception_V3_30april_15fps_15patients.h5')"
   ]
  },
  {
   "cell_type": "code",
   "execution_count": null,
   "metadata": {},
   "outputs": [],
   "source": []
  }
 ],
 "metadata": {
  "kernelspec": {
   "display_name": "Python 3",
   "language": "python",
   "name": "python3"
  },
  "language_info": {
   "codemirror_mode": {
    "name": "ipython",
    "version": 3
   },
   "file_extension": ".py",
   "mimetype": "text/x-python",
   "name": "python",
   "nbconvert_exporter": "python",
   "pygments_lexer": "ipython3",
   "version": "3.6.9"
  }
 },
 "nbformat": 4,
 "nbformat_minor": 2
}
